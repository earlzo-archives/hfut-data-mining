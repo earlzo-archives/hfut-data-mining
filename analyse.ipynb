{
 "cells": [
  {
   "cell_type": "markdown",
   "metadata": {},
   "source": [
    "# 初始化模块"
   ]
  },
  {
   "cell_type": "code",
   "execution_count": 4,
   "metadata": {
    "ExecuteTime": {
     "end_time": "2016-11-30T16:37:34.980151",
     "start_time": "2016-11-30T16:37:34.955962"
    },
    "collapsed": false
   },
   "outputs": [
    {
     "data": {
      "text/html": [
       "\n",
       "    <div class=\"bk-root\">\n",
       "        <a href=\"http://bokeh.pydata.org\" target=\"_blank\" class=\"bk-logo bk-logo-small bk-logo-notebook\"></a>\n",
       "        <span id=\"168912be-b2c8-4363-b773-61326317fe14\">Loading BokehJS ...</span>\n",
       "    </div>"
      ]
     },
     "metadata": {},
     "output_type": "display_data"
    },
    {
     "data": {
      "application/javascript": [
       "\n",
       "(function(global) {\n",
       "  function now() {\n",
       "    return new Date();\n",
       "  }\n",
       "\n",
       "  var force = \"1\";\n",
       "\n",
       "  if (typeof (window._bokeh_onload_callbacks) === \"undefined\" || force !== \"\") {\n",
       "    window._bokeh_onload_callbacks = [];\n",
       "    window._bokeh_is_loading = undefined;\n",
       "  }\n",
       "\n",
       "\n",
       "  \n",
       "  if (typeof (window._bokeh_timeout) === \"undefined\" || force !== \"\") {\n",
       "    window._bokeh_timeout = Date.now() + 5000;\n",
       "    window._bokeh_failed_load = false;\n",
       "  }\n",
       "\n",
       "  var NB_LOAD_WARNING = {'data': {'text/html':\n",
       "     \"<div style='background-color: #fdd'>\\n\"+\n",
       "     \"<p>\\n\"+\n",
       "     \"BokehJS does not appear to have successfully loaded. If loading BokehJS from CDN, this \\n\"+\n",
       "     \"may be due to a slow or bad network connection. Possible fixes:\\n\"+\n",
       "     \"</p>\\n\"+\n",
       "     \"<ul>\\n\"+\n",
       "     \"<li>re-rerun `output_notebook()` to attempt to load from CDN again, or</li>\\n\"+\n",
       "     \"<li>use INLINE resources instead, as so:</li>\\n\"+\n",
       "     \"</ul>\\n\"+\n",
       "     \"<code>\\n\"+\n",
       "     \"from bokeh.resources import INLINE\\n\"+\n",
       "     \"output_notebook(resources=INLINE)\\n\"+\n",
       "     \"</code>\\n\"+\n",
       "     \"</div>\"}};\n",
       "\n",
       "  function display_loaded() {\n",
       "    if (window.Bokeh !== undefined) {\n",
       "      Bokeh.$(\"#168912be-b2c8-4363-b773-61326317fe14\").text(\"BokehJS successfully loaded.\");\n",
       "    } else if (Date.now() < window._bokeh_timeout) {\n",
       "      setTimeout(display_loaded, 100)\n",
       "    }\n",
       "  }\n",
       "\n",
       "  function run_callbacks() {\n",
       "    window._bokeh_onload_callbacks.forEach(function(callback) { callback() });\n",
       "    delete window._bokeh_onload_callbacks\n",
       "    console.info(\"Bokeh: all callbacks have finished\");\n",
       "  }\n",
       "\n",
       "  function load_libs(js_urls, callback) {\n",
       "    window._bokeh_onload_callbacks.push(callback);\n",
       "    if (window._bokeh_is_loading > 0) {\n",
       "      console.log(\"Bokeh: BokehJS is being loaded, scheduling callback at\", now());\n",
       "      return null;\n",
       "    }\n",
       "    if (js_urls == null || js_urls.length === 0) {\n",
       "      run_callbacks();\n",
       "      return null;\n",
       "    }\n",
       "    console.log(\"Bokeh: BokehJS not loaded, scheduling load and callback at\", now());\n",
       "    window._bokeh_is_loading = js_urls.length;\n",
       "    for (var i = 0; i < js_urls.length; i++) {\n",
       "      var url = js_urls[i];\n",
       "      var s = document.createElement('script');\n",
       "      s.src = url;\n",
       "      s.async = false;\n",
       "      s.onreadystatechange = s.onload = function() {\n",
       "        window._bokeh_is_loading--;\n",
       "        if (window._bokeh_is_loading === 0) {\n",
       "          console.log(\"Bokeh: all BokehJS libraries loaded\");\n",
       "          run_callbacks()\n",
       "        }\n",
       "      };\n",
       "      s.onerror = function() {\n",
       "        console.warn(\"failed to load library \" + url);\n",
       "      };\n",
       "      console.log(\"Bokeh: injecting script tag for BokehJS library: \", url);\n",
       "      document.getElementsByTagName(\"head\")[0].appendChild(s);\n",
       "    }\n",
       "  };var element = document.getElementById(\"168912be-b2c8-4363-b773-61326317fe14\");\n",
       "  if (element == null) {\n",
       "    console.log(\"Bokeh: ERROR: autoload.js configured with elementid '168912be-b2c8-4363-b773-61326317fe14' but no matching script tag was found. \")\n",
       "    return false;\n",
       "  }\n",
       "\n",
       "  var js_urls = ['https://cdn.pydata.org/bokeh/release/bokeh-0.12.3.min.js', 'https://cdn.pydata.org/bokeh/release/bokeh-widgets-0.12.3.min.js'];\n",
       "\n",
       "  var inline_js = [\n",
       "    function(Bokeh) {\n",
       "      Bokeh.set_log_level(\"info\");\n",
       "    },\n",
       "    \n",
       "    function(Bokeh) {\n",
       "      \n",
       "      Bokeh.$(\"#168912be-b2c8-4363-b773-61326317fe14\").text(\"BokehJS is loading...\");\n",
       "    },\n",
       "    function(Bokeh) {\n",
       "      console.log(\"Bokeh: injecting CSS: https://cdn.pydata.org/bokeh/release/bokeh-0.12.3.min.css\");\n",
       "      Bokeh.embed.inject_css(\"https://cdn.pydata.org/bokeh/release/bokeh-0.12.3.min.css\");\n",
       "      console.log(\"Bokeh: injecting CSS: https://cdn.pydata.org/bokeh/release/bokeh-widgets-0.12.3.min.css\");\n",
       "      Bokeh.embed.inject_css(\"https://cdn.pydata.org/bokeh/release/bokeh-widgets-0.12.3.min.css\");\n",
       "    }\n",
       "  ];\n",
       "\n",
       "  function run_inline_js() {\n",
       "    \n",
       "    if ((window.Bokeh !== undefined) || (force === \"1\")) {\n",
       "      for (var i = 0; i < inline_js.length; i++) {\n",
       "        inline_js[i](window.Bokeh);\n",
       "      }if (force === \"1\") {\n",
       "        display_loaded();\n",
       "      }} else if (Date.now() < window._bokeh_timeout) {\n",
       "      setTimeout(run_inline_js, 100);\n",
       "    } else if (!window._bokeh_failed_load) {\n",
       "      console.log(\"Bokeh: BokehJS failed to load within specified timeout.\");\n",
       "      window._bokeh_failed_load = true;\n",
       "    } else if (!force) {\n",
       "      var cell = $(\"#168912be-b2c8-4363-b773-61326317fe14\").parents('.cell').data().cell;\n",
       "      cell.output_area.append_execute_result(NB_LOAD_WARNING)\n",
       "    }\n",
       "\n",
       "  }\n",
       "\n",
       "  if (window._bokeh_is_loading === 0) {\n",
       "    console.log(\"Bokeh: BokehJS loaded, going straight to plotting\");\n",
       "    run_inline_js();\n",
       "  } else {\n",
       "    load_libs(js_urls, function() {\n",
       "      console.log(\"Bokeh: BokehJS plotting callback run at\", now());\n",
       "      run_inline_js();\n",
       "    });\n",
       "  }\n",
       "}(this));"
      ]
     },
     "metadata": {},
     "output_type": "display_data"
    }
   ],
   "source": [
    "import re\n",
    "import numpy as np\n",
    "import pandas as pd\n",
    "import pymongo\n",
    "import requests\n",
    "import ipywidgets\n",
    "from IPython import display\n",
    "from bokeh import charts\n",
    "from bokeh.io import push_notebook, show, output_notebook\n",
    "output_notebook()\n",
    "\n",
    "client = pymongo.MongoClient()\n",
    "db = client['hfut']"
   ]
  },
  {
   "cell_type": "markdown",
   "metadata": {},
   "source": [
    "# 数据分析"
   ]
  },
  {
   "cell_type": "markdown",
   "metadata": {},
   "source": [
    "## 数据总量"
   ]
  },
  {
   "cell_type": "code",
   "execution_count": 5,
   "metadata": {
    "ExecuteTime": {
     "end_time": "2016-11-30T16:37:35.184060",
     "start_time": "2016-11-30T16:37:34.983708"
    },
    "collapsed": false
   },
   "outputs": [
    {
     "name": "stdout",
     "output_type": "stream",
     "text": [
      "专业记录 120 条\n",
      "学期记录 10 条\n",
      "课程记录 1231 条\n",
      "专业计划记录 2201 条\n",
      "教学班记录 10013 条\n",
      "学生记录 13567 条\n",
      "教学班-学生关系记录 822919 条\n"
     ]
    }
   ],
   "source": [
    "print('专业记录', db['major'].count(), '条')\n",
    "print('学期记录', db['term'].count(), '条')\n",
    "print('课程记录', db['course'].count(), '条')\n",
    "print('专业计划记录', db['plan'].count(), '条')\n",
    "print('教学班记录', db['class'].count(), '条')\n",
    "print('学生记录', db['student'].count(), '条')\n",
    "print('教学班-学生关系记录', db['class_student'].count(), '条')"
   ]
  },
  {
   "cell_type": "code",
   "execution_count": 11,
   "metadata": {
    "ExecuteTime": {
     "end_time": "2016-11-30T16:37:56.869293",
     "start_time": "2016-11-30T16:37:56.644130"
    },
    "collapsed": false,
    "scrolled": false
   },
   "outputs": [
    {
     "data": {
      "text/html": [
       "<div>\n",
       "<table border=\"1\" class=\"dataframe\">\n",
       "  <thead>\n",
       "    <tr style=\"text-align: right;\">\n",
       "      <th>性别</th>\n",
       "      <th>女</th>\n",
       "      <th>男</th>\n",
       "      <th>比例</th>\n",
       "      <th>合计</th>\n",
       "    </tr>\n",
       "    <tr>\n",
       "      <th>入学年份</th>\n",
       "      <th></th>\n",
       "      <th></th>\n",
       "      <th></th>\n",
       "      <th></th>\n",
       "    </tr>\n",
       "  </thead>\n",
       "  <tbody>\n",
       "    <tr>\n",
       "      <th>2012</th>\n",
       "      <td>586</td>\n",
       "      <td>2037</td>\n",
       "      <td>3.476109</td>\n",
       "      <td>2623</td>\n",
       "    </tr>\n",
       "    <tr>\n",
       "      <th>2013</th>\n",
       "      <td>604</td>\n",
       "      <td>2332</td>\n",
       "      <td>3.860927</td>\n",
       "      <td>2936</td>\n",
       "    </tr>\n",
       "    <tr>\n",
       "      <th>2014</th>\n",
       "      <td>590</td>\n",
       "      <td>2412</td>\n",
       "      <td>4.088136</td>\n",
       "      <td>3002</td>\n",
       "    </tr>\n",
       "    <tr>\n",
       "      <th>2015</th>\n",
       "      <td>650</td>\n",
       "      <td>2346</td>\n",
       "      <td>3.609231</td>\n",
       "      <td>2996</td>\n",
       "    </tr>\n",
       "    <tr>\n",
       "      <th>2016</th>\n",
       "      <td>459</td>\n",
       "      <td>1551</td>\n",
       "      <td>3.379085</td>\n",
       "      <td>2010</td>\n",
       "    </tr>\n",
       "  </tbody>\n",
       "</table>\n",
       "</div>"
      ],
      "text/plain": [
       "性别      女     男        比例    合计\n",
       "入学年份                           \n",
       "2012  586  2037  3.476109  2623\n",
       "2013  604  2332  3.860927  2936\n",
       "2014  590  2412  4.088136  3002\n",
       "2015  650  2346  3.609231  2996\n",
       "2016  459  1551  3.379085  2010"
      ]
     },
     "execution_count": 11,
     "metadata": {},
     "output_type": "execute_result"
    }
   ],
   "source": [
    "# http://bokeh.pydata.org/en/latest/docs/user_guide/charts.html\n",
    "student_df = pd.DataFrame(list(db['student'].find()), columns=['学号', '姓名', '性别'])\n",
    "student_df['入学年份'] = student_df['学号'] // 1000000\n",
    "# http://pandas.pydata.org/pandas-docs/stable/generated/pandas.DataFrame.groupby.html\n",
    "_ = student_df.groupby(student_df['入学年份']).apply(lambda df: df.groupby(df['性别']).count())\n",
    "_ = _.unstack()['学号']\n",
    "_['比例'] = _['男'] / _['女']\n",
    "_['合计'] = _['男'] + _['女']\n",
    "_"
   ]
  },
  {
   "cell_type": "code",
   "execution_count": 7,
   "metadata": {
    "ExecuteTime": {
     "end_time": "2016-11-30T16:37:37.719996",
     "start_time": "2016-11-30T16:37:35.790470"
    },
    "collapsed": false
   },
   "outputs": [
    {
     "data": {
      "text/html": [
       "\n",
       "\n",
       "    <div class=\"bk-root\">\n",
       "        <div class=\"plotdiv\" id=\"7189a4e4-bf43-4d13-95ab-ba4f582ec11a\"></div>\n",
       "    </div>\n",
       "<script type=\"text/javascript\">\n",
       "  \n",
       "  (function(global) {\n",
       "    function now() {\n",
       "      return new Date();\n",
       "    }\n",
       "  \n",
       "    var force = \"\";\n",
       "  \n",
       "    if (typeof (window._bokeh_onload_callbacks) === \"undefined\" || force !== \"\") {\n",
       "      window._bokeh_onload_callbacks = [];\n",
       "      window._bokeh_is_loading = undefined;\n",
       "    }\n",
       "  \n",
       "  \n",
       "    \n",
       "    if (typeof (window._bokeh_timeout) === \"undefined\" || force !== \"\") {\n",
       "      window._bokeh_timeout = Date.now() + 0;\n",
       "      window._bokeh_failed_load = false;\n",
       "    }\n",
       "  \n",
       "    var NB_LOAD_WARNING = {'data': {'text/html':\n",
       "       \"<div style='background-color: #fdd'>\\n\"+\n",
       "       \"<p>\\n\"+\n",
       "       \"BokehJS does not appear to have successfully loaded. If loading BokehJS from CDN, this \\n\"+\n",
       "       \"may be due to a slow or bad network connection. Possible fixes:\\n\"+\n",
       "       \"</p>\\n\"+\n",
       "       \"<ul>\\n\"+\n",
       "       \"<li>re-rerun `output_notebook()` to attempt to load from CDN again, or</li>\\n\"+\n",
       "       \"<li>use INLINE resources instead, as so:</li>\\n\"+\n",
       "       \"</ul>\\n\"+\n",
       "       \"<code>\\n\"+\n",
       "       \"from bokeh.resources import INLINE\\n\"+\n",
       "       \"output_notebook(resources=INLINE)\\n\"+\n",
       "       \"</code>\\n\"+\n",
       "       \"</div>\"}};\n",
       "  \n",
       "    function display_loaded() {\n",
       "      if (window.Bokeh !== undefined) {\n",
       "        Bokeh.$(\"#7189a4e4-bf43-4d13-95ab-ba4f582ec11a\").text(\"BokehJS successfully loaded.\");\n",
       "      } else if (Date.now() < window._bokeh_timeout) {\n",
       "        setTimeout(display_loaded, 100)\n",
       "      }\n",
       "    }\n",
       "  \n",
       "    function run_callbacks() {\n",
       "      window._bokeh_onload_callbacks.forEach(function(callback) { callback() });\n",
       "      delete window._bokeh_onload_callbacks\n",
       "      console.info(\"Bokeh: all callbacks have finished\");\n",
       "    }\n",
       "  \n",
       "    function load_libs(js_urls, callback) {\n",
       "      window._bokeh_onload_callbacks.push(callback);\n",
       "      if (window._bokeh_is_loading > 0) {\n",
       "        console.log(\"Bokeh: BokehJS is being loaded, scheduling callback at\", now());\n",
       "        return null;\n",
       "      }\n",
       "      if (js_urls == null || js_urls.length === 0) {\n",
       "        run_callbacks();\n",
       "        return null;\n",
       "      }\n",
       "      console.log(\"Bokeh: BokehJS not loaded, scheduling load and callback at\", now());\n",
       "      window._bokeh_is_loading = js_urls.length;\n",
       "      for (var i = 0; i < js_urls.length; i++) {\n",
       "        var url = js_urls[i];\n",
       "        var s = document.createElement('script');\n",
       "        s.src = url;\n",
       "        s.async = false;\n",
       "        s.onreadystatechange = s.onload = function() {\n",
       "          window._bokeh_is_loading--;\n",
       "          if (window._bokeh_is_loading === 0) {\n",
       "            console.log(\"Bokeh: all BokehJS libraries loaded\");\n",
       "            run_callbacks()\n",
       "          }\n",
       "        };\n",
       "        s.onerror = function() {\n",
       "          console.warn(\"failed to load library \" + url);\n",
       "        };\n",
       "        console.log(\"Bokeh: injecting script tag for BokehJS library: \", url);\n",
       "        document.getElementsByTagName(\"head\")[0].appendChild(s);\n",
       "      }\n",
       "    };var element = document.getElementById(\"7189a4e4-bf43-4d13-95ab-ba4f582ec11a\");\n",
       "    if (element == null) {\n",
       "      console.log(\"Bokeh: ERROR: autoload.js configured with elementid '7189a4e4-bf43-4d13-95ab-ba4f582ec11a' but no matching script tag was found. \")\n",
       "      return false;\n",
       "    }\n",
       "  \n",
       "    var js_urls = [];\n",
       "  \n",
       "    var inline_js = [\n",
       "      function(Bokeh) {\n",
       "        Bokeh.$(function() {\n",
       "            var docs_json = {\"192a310a-b639-41eb-b700-a7ac004eb785\":{\"roots\":{\"references\":[{\"attributes\":{\"data_source\":{\"id\":\"c8736b8d-e304-4d7a-bd48-9782d22706b3\",\"type\":\"ColumnDataSource\"},\"glyph\":{\"id\":\"abeb8219-c800-40d8-bb99-03531d9ab347\",\"type\":\"Rect\"},\"hover_glyph\":null,\"nonselection_glyph\":null,\"selection_glyph\":null},\"id\":\"7200fdab-3d7f-4eac-b66d-0ab62bbdd85e\",\"type\":\"GlyphRenderer\"},{\"attributes\":{\"fill_alpha\":{\"field\":\"fill_alpha\"},\"fill_color\":{\"field\":\"color\"},\"height\":{\"field\":\"height\",\"units\":\"data\"},\"line_color\":{\"field\":\"line_color\"},\"width\":{\"field\":\"width\",\"units\":\"data\"},\"x\":{\"field\":\"x\"},\"y\":{\"field\":\"y\"}},\"id\":\"ada1c370-c86a-4b58-a54b-309b4e451f63\",\"type\":\"Rect\"},{\"attributes\":{},\"id\":\"ad7028c7-1e5e-45e2-9126-b266b4783bd1\",\"type\":\"BasicTicker\"},{\"attributes\":{\"plot\":{\"id\":\"906c3998-cd3b-4e8a-bb4a-feca5aedf170\",\"subtype\":\"Chart\",\"type\":\"Plot\"}},\"id\":\"7766eead-d5a9-42ab-81b3-c66d19b0e355\",\"type\":\"ResetTool\"},{\"attributes\":{\"callback\":null,\"factors\":[\"2012\",\"2013\",\"2014\",\"2015\",\"2016\"]},\"id\":\"38c3f45e-ddce-44a3-8c5c-104f7a28f8fb\",\"type\":\"FactorRange\"},{\"attributes\":{\"dimension\":1,\"plot\":{\"id\":\"906c3998-cd3b-4e8a-bb4a-feca5aedf170\",\"subtype\":\"Chart\",\"type\":\"Plot\"},\"ticker\":{\"id\":\"ad7028c7-1e5e-45e2-9126-b266b4783bd1\",\"type\":\"BasicTicker\"}},\"id\":\"697561d7-e2fb-4f0c-9858-17762a1130bd\",\"type\":\"Grid\"},{\"attributes\":{},\"id\":\"e9ec34c1-91ac-4154-a1a4-ee39b9eb0c45\",\"type\":\"BasicTickFormatter\"},{\"attributes\":{\"data_source\":{\"id\":\"89de0722-9132-4d9e-9eb9-7449656d27ea\",\"type\":\"ColumnDataSource\"},\"glyph\":{\"id\":\"0d8c7414-b1f8-46c0-8499-1f5933ceb58f\",\"type\":\"Rect\"},\"hover_glyph\":null,\"nonselection_glyph\":null,\"selection_glyph\":null},\"id\":\"fce5b6c1-a0cc-43d0-bcd7-806669d261ce\",\"type\":\"GlyphRenderer\"},{\"attributes\":{\"axis_label\":\"\\u5165\\u5b66\\u5e74\\u4efd\",\"formatter\":{\"id\":\"e2e74693-b046-4ab3-b5f4-9e9fb93eaf88\",\"type\":\"CategoricalTickFormatter\"},\"major_label_orientation\":0.7853981633974483,\"plot\":{\"id\":\"906c3998-cd3b-4e8a-bb4a-feca5aedf170\",\"subtype\":\"Chart\",\"type\":\"Plot\"},\"ticker\":{\"id\":\"1a20eeaa-c471-4f1c-a901-128f2eeed849\",\"type\":\"CategoricalTicker\"}},\"id\":\"dc5550d8-0391-4d11-bc0f-aa3a5f1b8370\",\"type\":\"CategoricalAxis\"},{\"attributes\":{\"callback\":null,\"column_names\":[\"width\",\"line_alpha\",\"y\",\"x\",\"height\",\"line_color\",\"fill_alpha\",\"label\",\"color\"],\"data\":{\"chart_index\":[{\"\\u5165\\u5b66\\u5e74\\u4efd\":2013,\"\\u6027\\u522b\":\"\\u5973\"}],\"color\":[\"#f22c40\"],\"fill_alpha\":[0.8],\"height\":[604.0],\"label\":[{\"\\u5165\\u5b66\\u5e74\\u4efd\":2013,\"\\u6027\\u522b\":\"\\u5973\"}],\"line_alpha\":[1.0],\"line_color\":[\"white\"],\"width\":[0.8],\"x\":[\"2013\"],\"y\":[2634.0],\"\\u5165\\u5b66\\u5e74\\u4efd\":[2013],\"\\u6027\\u522b\":[\"\\u5973\"]}},\"id\":\"95cd4735-430e-42f3-b832-1ca2fcb8a5f5\",\"type\":\"ColumnDataSource\"},{\"attributes\":{\"callback\":null,\"column_names\":[\"width\",\"line_alpha\",\"y\",\"x\",\"height\",\"line_color\",\"fill_alpha\",\"label\",\"color\"],\"data\":{\"chart_index\":[{\"\\u5165\\u5b66\\u5e74\\u4efd\":2014,\"\\u6027\\u522b\":\"\\u7537\"}],\"color\":[\"#5ab738\"],\"fill_alpha\":[0.8],\"height\":[2412.0],\"label\":[{\"\\u5165\\u5b66\\u5e74\\u4efd\":2014,\"\\u6027\\u522b\":\"\\u7537\"}],\"line_alpha\":[1.0],\"line_color\":[\"white\"],\"width\":[0.8],\"x\":[\"2014\"],\"y\":[1206.0],\"\\u5165\\u5b66\\u5e74\\u4efd\":[2014],\"\\u6027\\u522b\":[\"\\u7537\"]}},\"id\":\"0f36b7d6-db29-4c48-ab2e-947ae6ee415d\",\"type\":\"ColumnDataSource\"},{\"attributes\":{\"callback\":null,\"column_names\":[\"width\",\"line_alpha\",\"y\",\"x\",\"height\",\"line_color\",\"fill_alpha\",\"label\",\"color\"],\"data\":{\"chart_index\":[{\"\\u5165\\u5b66\\u5e74\\u4efd\":2012,\"\\u6027\\u522b\":\"\\u5973\"}],\"color\":[\"#f22c40\"],\"fill_alpha\":[0.8],\"height\":[586.0],\"label\":[{\"\\u5165\\u5b66\\u5e74\\u4efd\":2012,\"\\u6027\\u522b\":\"\\u5973\"}],\"line_alpha\":[1.0],\"line_color\":[\"white\"],\"width\":[0.8],\"x\":[\"2012\"],\"y\":[2330.0],\"\\u5165\\u5b66\\u5e74\\u4efd\":[2012],\"\\u6027\\u522b\":[\"\\u5973\"]}},\"id\":\"89de0722-9132-4d9e-9eb9-7449656d27ea\",\"type\":\"ColumnDataSource\"},{\"attributes\":{\"fill_alpha\":{\"field\":\"fill_alpha\"},\"fill_color\":{\"field\":\"color\"},\"height\":{\"field\":\"height\",\"units\":\"data\"},\"line_color\":{\"field\":\"line_color\"},\"width\":{\"field\":\"width\",\"units\":\"data\"},\"x\":{\"field\":\"x\"},\"y\":{\"field\":\"y\"}},\"id\":\"85cb7761-47d4-4248-8eef-d2679ce11145\",\"type\":\"Rect\"},{\"attributes\":{\"below\":[{\"id\":\"dc5550d8-0391-4d11-bc0f-aa3a5f1b8370\",\"type\":\"CategoricalAxis\"}],\"left\":[{\"id\":\"6b079b6c-5a68-465c-8e1e-c47add8c6e1e\",\"type\":\"LinearAxis\"}],\"renderers\":[{\"id\":\"27013845-a279-435b-bada-42d46a53b2c5\",\"type\":\"BoxAnnotation\"},{\"id\":\"4f483186-16af-4c49-8ce7-d0e1d65545fb\",\"type\":\"GlyphRenderer\"},{\"id\":\"7200fdab-3d7f-4eac-b66d-0ab62bbdd85e\",\"type\":\"GlyphRenderer\"},{\"id\":\"0b8b1561-dec6-41be-8e70-1dc56e50223a\",\"type\":\"GlyphRenderer\"},{\"id\":\"0651f013-3437-4a47-91a6-35154ed55cdc\",\"type\":\"GlyphRenderer\"},{\"id\":\"ed612409-abcf-4d8f-9fcf-0f2dd8ea3f90\",\"type\":\"GlyphRenderer\"},{\"id\":\"de450863-6bfb-4c52-b963-1513082d3ac9\",\"type\":\"GlyphRenderer\"},{\"id\":\"43ff5838-cafc-4b99-ae86-449422625214\",\"type\":\"GlyphRenderer\"},{\"id\":\"fce5b6c1-a0cc-43d0-bcd7-806669d261ce\",\"type\":\"GlyphRenderer\"},{\"id\":\"6cebc41c-9ebb-43a8-bcf7-2017786a31de\",\"type\":\"GlyphRenderer\"},{\"id\":\"ad47598c-16df-4ccb-9c6a-3485c47f6fcb\",\"type\":\"GlyphRenderer\"},{\"id\":\"36e0428c-bd49-44ed-a0ec-fddb93ae5c7d\",\"type\":\"Legend\"},{\"id\":\"dc5550d8-0391-4d11-bc0f-aa3a5f1b8370\",\"type\":\"CategoricalAxis\"},{\"id\":\"6b079b6c-5a68-465c-8e1e-c47add8c6e1e\",\"type\":\"LinearAxis\"},{\"id\":\"697561d7-e2fb-4f0c-9858-17762a1130bd\",\"type\":\"Grid\"}],\"title\":{\"id\":\"e2f562b5-bb5b-418e-8ae2-e0c649f713d1\",\"type\":\"Title\"},\"tool_events\":{\"id\":\"c87f5539-17c8-4815-aed0-a93919a3f0cf\",\"type\":\"ToolEvents\"},\"toolbar\":{\"id\":\"a826a005-c808-428f-b78b-3bba26b8a3a0\",\"type\":\"Toolbar\"},\"x_mapper_type\":\"auto\",\"x_range\":{\"id\":\"38c3f45e-ddce-44a3-8c5c-104f7a28f8fb\",\"type\":\"FactorRange\"},\"y_mapper_type\":\"auto\",\"y_range\":{\"id\":\"f263db3b-7646-4291-9fb5-9b631a667b54\",\"type\":\"Range1d\"}},\"id\":\"906c3998-cd3b-4e8a-bb4a-feca5aedf170\",\"subtype\":\"Chart\",\"type\":\"Plot\"},{\"attributes\":{\"plot\":{\"id\":\"906c3998-cd3b-4e8a-bb4a-feca5aedf170\",\"subtype\":\"Chart\",\"type\":\"Plot\"}},\"id\":\"07eae4db-e42c-4582-957b-b5311ac2fdae\",\"type\":\"WheelZoomTool\"},{\"attributes\":{\"bottom_units\":\"screen\",\"fill_alpha\":{\"value\":0.5},\"fill_color\":{\"value\":\"lightgrey\"},\"left_units\":\"screen\",\"level\":\"overlay\",\"line_alpha\":{\"value\":1.0},\"line_color\":{\"value\":\"black\"},\"line_dash\":[4,4],\"line_width\":{\"value\":2},\"plot\":null,\"render_mode\":\"css\",\"right_units\":\"screen\",\"top_units\":\"screen\"},\"id\":\"27013845-a279-435b-bada-42d46a53b2c5\",\"type\":\"BoxAnnotation\"},{\"attributes\":{\"plot\":{\"id\":\"906c3998-cd3b-4e8a-bb4a-feca5aedf170\",\"subtype\":\"Chart\",\"type\":\"Plot\"}},\"id\":\"f4005b0b-6d9d-4e19-8723-745f83255297\",\"type\":\"HelpTool\"},{\"attributes\":{\"data_source\":{\"id\":\"95cd4735-430e-42f3-b832-1ca2fcb8a5f5\",\"type\":\"ColumnDataSource\"},\"glyph\":{\"id\":\"7c91ee6d-d571-4e87-9479-33affe0d22b5\",\"type\":\"Rect\"},\"hover_glyph\":null,\"nonselection_glyph\":null,\"selection_glyph\":null},\"id\":\"de450863-6bfb-4c52-b963-1513082d3ac9\",\"type\":\"GlyphRenderer\"},{\"attributes\":{\"label\":{\"value\":\"\\u5973\"},\"renderers\":[{\"id\":\"7200fdab-3d7f-4eac-b66d-0ab62bbdd85e\",\"type\":\"GlyphRenderer\"}]},\"id\":\"be96e141-44a6-4174-912c-eecd71ac1bea\",\"type\":\"LegendItem\"},{\"attributes\":{},\"id\":\"c87f5539-17c8-4815-aed0-a93919a3f0cf\",\"type\":\"ToolEvents\"},{\"attributes\":{\"callback\":null,\"column_names\":[\"width\",\"line_alpha\",\"y\",\"x\",\"height\",\"line_color\",\"fill_alpha\",\"label\",\"color\"],\"data\":{\"chart_index\":[{\"\\u5165\\u5b66\\u5e74\\u4efd\":2015,\"\\u6027\\u522b\":\"\\u7537\"}],\"color\":[\"#5ab738\"],\"fill_alpha\":[0.8],\"height\":[2346.0],\"label\":[{\"\\u5165\\u5b66\\u5e74\\u4efd\":2015,\"\\u6027\\u522b\":\"\\u7537\"}],\"line_alpha\":[1.0],\"line_color\":[\"white\"],\"width\":[0.8],\"x\":[\"2015\"],\"y\":[1173.0],\"\\u5165\\u5b66\\u5e74\\u4efd\":[2015],\"\\u6027\\u522b\":[\"\\u7537\"]}},\"id\":\"2df13f78-761f-4c9e-9c28-510ed34dfd58\",\"type\":\"ColumnDataSource\"},{\"attributes\":{\"fill_alpha\":{\"field\":\"fill_alpha\"},\"fill_color\":{\"field\":\"color\"},\"height\":{\"field\":\"height\",\"units\":\"data\"},\"line_color\":{\"field\":\"line_color\"},\"width\":{\"field\":\"width\",\"units\":\"data\"},\"x\":{\"field\":\"x\"},\"y\":{\"field\":\"y\"}},\"id\":\"7c91ee6d-d571-4e87-9479-33affe0d22b5\",\"type\":\"Rect\"},{\"attributes\":{\"callback\":null,\"column_names\":[\"width\",\"line_alpha\",\"y\",\"x\",\"height\",\"line_color\",\"fill_alpha\",\"label\",\"color\"],\"data\":{\"chart_index\":[{\"\\u5165\\u5b66\\u5e74\\u4efd\":2015,\"\\u6027\\u522b\":\"\\u5973\"}],\"color\":[\"#f22c40\"],\"fill_alpha\":[0.8],\"height\":[650.0],\"label\":[{\"\\u5165\\u5b66\\u5e74\\u4efd\":2015,\"\\u6027\\u522b\":\"\\u5973\"}],\"line_alpha\":[1.0],\"line_color\":[\"white\"],\"width\":[0.8],\"x\":[\"2015\"],\"y\":[2671.0],\"\\u5165\\u5b66\\u5e74\\u4efd\":[2015],\"\\u6027\\u522b\":[\"\\u5973\"]}},\"id\":\"c8736b8d-e304-4d7a-bd48-9782d22706b3\",\"type\":\"ColumnDataSource\"},{\"attributes\":{\"fill_alpha\":{\"field\":\"fill_alpha\"},\"fill_color\":{\"field\":\"color\"},\"height\":{\"field\":\"height\",\"units\":\"data\"},\"line_color\":{\"field\":\"line_color\"},\"width\":{\"field\":\"width\",\"units\":\"data\"},\"x\":{\"field\":\"x\"},\"y\":{\"field\":\"y\"}},\"id\":\"0d8c7414-b1f8-46c0-8499-1f5933ceb58f\",\"type\":\"Rect\"},{\"attributes\":{\"data_source\":{\"id\":\"0f36b7d6-db29-4c48-ab2e-947ae6ee415d\",\"type\":\"ColumnDataSource\"},\"glyph\":{\"id\":\"da84d649-04cd-4765-9ba7-2db49043dc2e\",\"type\":\"Rect\"},\"hover_glyph\":null,\"nonselection_glyph\":null,\"selection_glyph\":null},\"id\":\"0b8b1561-dec6-41be-8e70-1dc56e50223a\",\"type\":\"GlyphRenderer\"},{\"attributes\":{\"callback\":null,\"column_names\":[\"width\",\"line_alpha\",\"y\",\"x\",\"height\",\"line_color\",\"fill_alpha\",\"label\",\"color\"],\"data\":{\"chart_index\":[{\"\\u5165\\u5b66\\u5e74\\u4efd\":2013,\"\\u6027\\u522b\":\"\\u7537\"}],\"color\":[\"#5ab738\"],\"fill_alpha\":[0.8],\"height\":[2332.0],\"label\":[{\"\\u5165\\u5b66\\u5e74\\u4efd\":2013,\"\\u6027\\u522b\":\"\\u7537\"}],\"line_alpha\":[1.0],\"line_color\":[\"white\"],\"width\":[0.8],\"x\":[\"2013\"],\"y\":[1166.0],\"\\u5165\\u5b66\\u5e74\\u4efd\":[2013],\"\\u6027\\u522b\":[\"\\u7537\"]}},\"id\":\"51ac5e6c-1b1c-4c5e-a3fc-3d28a209d714\",\"type\":\"ColumnDataSource\"},{\"attributes\":{\"data_source\":{\"id\":\"6f91ef62-7a5b-473a-8faf-6f37f585cc89\",\"type\":\"ColumnDataSource\"},\"glyph\":{\"id\":\"85cb7761-47d4-4248-8eef-d2679ce11145\",\"type\":\"Rect\"},\"hover_glyph\":null,\"nonselection_glyph\":null,\"selection_glyph\":null},\"id\":\"43ff5838-cafc-4b99-ae86-449422625214\",\"type\":\"GlyphRenderer\"},{\"attributes\":{\"plot\":{\"id\":\"906c3998-cd3b-4e8a-bb4a-feca5aedf170\",\"subtype\":\"Chart\",\"type\":\"Plot\"}},\"id\":\"7b9bfdd8-e779-4966-b022-19c621948ccf\",\"type\":\"PanTool\"},{\"attributes\":{},\"id\":\"e2e74693-b046-4ab3-b5f4-9e9fb93eaf88\",\"type\":\"CategoricalTickFormatter\"},{\"attributes\":{\"data_source\":{\"id\":\"51ac5e6c-1b1c-4c5e-a3fc-3d28a209d714\",\"type\":\"ColumnDataSource\"},\"glyph\":{\"id\":\"5d37c5da-8db9-4856-9c6e-bfd6d643a89e\",\"type\":\"Rect\"},\"hover_glyph\":null,\"nonselection_glyph\":null,\"selection_glyph\":null},\"id\":\"ed612409-abcf-4d8f-9fcf-0f2dd8ea3f90\",\"type\":\"GlyphRenderer\"},{\"attributes\":{\"data_source\":{\"id\":\"1a2d97f0-59f5-4ed8-82d8-4d94bb4bbb8b\",\"type\":\"ColumnDataSource\"},\"glyph\":{\"id\":\"ada1c370-c86a-4b58-a54b-309b4e451f63\",\"type\":\"Rect\"},\"hover_glyph\":null,\"nonselection_glyph\":null,\"selection_glyph\":null},\"id\":\"ad47598c-16df-4ccb-9c6a-3485c47f6fcb\",\"type\":\"GlyphRenderer\"},{\"attributes\":{\"plot\":{\"id\":\"906c3998-cd3b-4e8a-bb4a-feca5aedf170\",\"subtype\":\"Chart\",\"type\":\"Plot\"}},\"id\":\"b4c9a059-7b44-42e1-943b-4fba4f0a87ee\",\"type\":\"SaveTool\"},{\"attributes\":{\"overlay\":{\"id\":\"27013845-a279-435b-bada-42d46a53b2c5\",\"type\":\"BoxAnnotation\"},\"plot\":{\"id\":\"906c3998-cd3b-4e8a-bb4a-feca5aedf170\",\"subtype\":\"Chart\",\"type\":\"Plot\"}},\"id\":\"c71ea125-8b5a-4af4-85e6-303cfa7096a4\",\"type\":\"BoxZoomTool\"},{\"attributes\":{\"callback\":null,\"column_names\":[\"width\",\"line_alpha\",\"y\",\"x\",\"height\",\"line_color\",\"fill_alpha\",\"label\",\"color\"],\"data\":{\"chart_index\":[{\"\\u5165\\u5b66\\u5e74\\u4efd\":2016,\"\\u6027\\u522b\":\"\\u7537\"}],\"color\":[\"#5ab738\"],\"fill_alpha\":[0.8],\"height\":[1551.0],\"label\":[{\"\\u5165\\u5b66\\u5e74\\u4efd\":2016,\"\\u6027\\u522b\":\"\\u7537\"}],\"line_alpha\":[1.0],\"line_color\":[\"white\"],\"width\":[0.8],\"x\":[\"2016\"],\"y\":[775.5],\"\\u5165\\u5b66\\u5e74\\u4efd\":[2016],\"\\u6027\\u522b\":[\"\\u7537\"]}},\"id\":\"cc05d98f-8394-4077-9412-f212eb0b6692\",\"type\":\"ColumnDataSource\"},{\"attributes\":{\"items\":[{\"id\":\"58659cc6-10b0-4ee2-90b1-9e5280b80040\",\"type\":\"LegendItem\"},{\"id\":\"be96e141-44a6-4174-912c-eecd71ac1bea\",\"type\":\"LegendItem\"}],\"location\":\"top_left\",\"plot\":{\"id\":\"906c3998-cd3b-4e8a-bb4a-feca5aedf170\",\"subtype\":\"Chart\",\"type\":\"Plot\"}},\"id\":\"36e0428c-bd49-44ed-a0ec-fddb93ae5c7d\",\"type\":\"Legend\"},{\"attributes\":{\"fill_alpha\":{\"field\":\"fill_alpha\"},\"fill_color\":{\"field\":\"color\"},\"height\":{\"field\":\"height\",\"units\":\"data\"},\"line_color\":{\"field\":\"line_color\"},\"width\":{\"field\":\"width\",\"units\":\"data\"},\"x\":{\"field\":\"x\"},\"y\":{\"field\":\"y\"}},\"id\":\"da84d649-04cd-4765-9ba7-2db49043dc2e\",\"type\":\"Rect\"},{\"attributes\":{},\"id\":\"1a20eeaa-c471-4f1c-a901-128f2eeed849\",\"type\":\"CategoricalTicker\"},{\"attributes\":{\"callback\":null,\"column_names\":[\"width\",\"line_alpha\",\"y\",\"x\",\"height\",\"line_color\",\"fill_alpha\",\"label\",\"color\"],\"data\":{\"chart_index\":[{\"\\u5165\\u5b66\\u5e74\\u4efd\":2014,\"\\u6027\\u522b\":\"\\u5973\"}],\"color\":[\"#f22c40\"],\"fill_alpha\":[0.8],\"height\":[590.0],\"label\":[{\"\\u5165\\u5b66\\u5e74\\u4efd\":2014,\"\\u6027\\u522b\":\"\\u5973\"}],\"line_alpha\":[1.0],\"line_color\":[\"white\"],\"width\":[0.8],\"x\":[\"2014\"],\"y\":[2707.0],\"\\u5165\\u5b66\\u5e74\\u4efd\":[2014],\"\\u6027\\u522b\":[\"\\u5973\"]}},\"id\":\"503bfd55-a5de-4e76-82ef-0bf31650e20e\",\"type\":\"ColumnDataSource\"},{\"attributes\":{\"fill_alpha\":{\"field\":\"fill_alpha\"},\"fill_color\":{\"field\":\"color\"},\"height\":{\"field\":\"height\",\"units\":\"data\"},\"line_color\":{\"field\":\"line_color\"},\"width\":{\"field\":\"width\",\"units\":\"data\"},\"x\":{\"field\":\"x\"},\"y\":{\"field\":\"y\"}},\"id\":\"5d37c5da-8db9-4856-9c6e-bfd6d643a89e\",\"type\":\"Rect\"},{\"attributes\":{\"fill_alpha\":{\"field\":\"fill_alpha\"},\"fill_color\":{\"field\":\"color\"},\"height\":{\"field\":\"height\",\"units\":\"data\"},\"line_color\":{\"field\":\"line_color\"},\"width\":{\"field\":\"width\",\"units\":\"data\"},\"x\":{\"field\":\"x\"},\"y\":{\"field\":\"y\"}},\"id\":\"dbc09c02-458d-4b95-8f8b-3223a7a35e07\",\"type\":\"Rect\"},{\"attributes\":{\"callback\":null,\"column_names\":[\"width\",\"line_alpha\",\"y\",\"x\",\"height\",\"line_color\",\"fill_alpha\",\"label\",\"color\"],\"data\":{\"chart_index\":[{\"\\u5165\\u5b66\\u5e74\\u4efd\":2012,\"\\u6027\\u522b\":\"\\u7537\"}],\"color\":[\"#5ab738\"],\"fill_alpha\":[0.8],\"height\":[2037.0],\"label\":[{\"\\u5165\\u5b66\\u5e74\\u4efd\":2012,\"\\u6027\\u522b\":\"\\u7537\"}],\"line_alpha\":[1.0],\"line_color\":[\"white\"],\"width\":[0.8],\"x\":[\"2012\"],\"y\":[1018.5],\"\\u5165\\u5b66\\u5e74\\u4efd\":[2012],\"\\u6027\\u522b\":[\"\\u7537\"]}},\"id\":\"6f91ef62-7a5b-473a-8faf-6f37f585cc89\",\"type\":\"ColumnDataSource\"},{\"attributes\":{\"callback\":null,\"column_names\":[\"width\",\"line_alpha\",\"y\",\"x\",\"height\",\"line_color\",\"fill_alpha\",\"label\",\"color\"],\"data\":{\"chart_index\":[{\"\\u5165\\u5b66\\u5e74\\u4efd\":2016,\"\\u6027\\u522b\":\"\\u5973\"}],\"color\":[\"#f22c40\"],\"fill_alpha\":[0.8],\"height\":[459.0],\"label\":[{\"\\u5165\\u5b66\\u5e74\\u4efd\":2016,\"\\u6027\\u522b\":\"\\u5973\"}],\"line_alpha\":[1.0],\"line_color\":[\"white\"],\"width\":[0.8],\"x\":[\"2016\"],\"y\":[1780.5],\"\\u5165\\u5b66\\u5e74\\u4efd\":[2016],\"\\u6027\\u522b\":[\"\\u5973\"]}},\"id\":\"1a2d97f0-59f5-4ed8-82d8-4d94bb4bbb8b\",\"type\":\"ColumnDataSource\"},{\"attributes\":{\"fill_alpha\":{\"field\":\"fill_alpha\"},\"fill_color\":{\"field\":\"color\"},\"height\":{\"field\":\"height\",\"units\":\"data\"},\"line_color\":{\"field\":\"line_color\"},\"width\":{\"field\":\"width\",\"units\":\"data\"},\"x\":{\"field\":\"x\"},\"y\":{\"field\":\"y\"}},\"id\":\"abeb8219-c800-40d8-bb99-03531d9ab347\",\"type\":\"Rect\"},{\"attributes\":{\"active_drag\":\"auto\",\"active_scroll\":\"auto\",\"active_tap\":\"auto\",\"tools\":[{\"id\":\"7b9bfdd8-e779-4966-b022-19c621948ccf\",\"type\":\"PanTool\"},{\"id\":\"07eae4db-e42c-4582-957b-b5311ac2fdae\",\"type\":\"WheelZoomTool\"},{\"id\":\"c71ea125-8b5a-4af4-85e6-303cfa7096a4\",\"type\":\"BoxZoomTool\"},{\"id\":\"b4c9a059-7b44-42e1-943b-4fba4f0a87ee\",\"type\":\"SaveTool\"},{\"id\":\"7766eead-d5a9-42ab-81b3-c66d19b0e355\",\"type\":\"ResetTool\"},{\"id\":\"f4005b0b-6d9d-4e19-8723-745f83255297\",\"type\":\"HelpTool\"}]},\"id\":\"a826a005-c808-428f-b78b-3bba26b8a3a0\",\"type\":\"Toolbar\"},{\"attributes\":{\"data_source\":{\"id\":\"2df13f78-761f-4c9e-9c28-510ed34dfd58\",\"type\":\"ColumnDataSource\"},\"glyph\":{\"id\":\"dbc09c02-458d-4b95-8f8b-3223a7a35e07\",\"type\":\"Rect\"},\"hover_glyph\":null,\"nonselection_glyph\":null,\"selection_glyph\":null},\"id\":\"4f483186-16af-4c49-8ce7-d0e1d65545fb\",\"type\":\"GlyphRenderer\"},{\"attributes\":{\"fill_alpha\":{\"field\":\"fill_alpha\"},\"fill_color\":{\"field\":\"color\"},\"height\":{\"field\":\"height\",\"units\":\"data\"},\"line_color\":{\"field\":\"line_color\"},\"width\":{\"field\":\"width\",\"units\":\"data\"},\"x\":{\"field\":\"x\"},\"y\":{\"field\":\"y\"}},\"id\":\"0f19c064-08b0-4842-a2de-a055ae2756a7\",\"type\":\"Rect\"},{\"attributes\":{\"fill_alpha\":{\"field\":\"fill_alpha\"},\"fill_color\":{\"field\":\"color\"},\"height\":{\"field\":\"height\",\"units\":\"data\"},\"line_color\":{\"field\":\"line_color\"},\"width\":{\"field\":\"width\",\"units\":\"data\"},\"x\":{\"field\":\"x\"},\"y\":{\"field\":\"y\"}},\"id\":\"26cfc347-44d1-4c16-b44b-7972893be560\",\"type\":\"Rect\"},{\"attributes\":{\"label\":{\"value\":\"\\u7537\"},\"renderers\":[{\"id\":\"4f483186-16af-4c49-8ce7-d0e1d65545fb\",\"type\":\"GlyphRenderer\"}]},\"id\":\"58659cc6-10b0-4ee2-90b1-9e5280b80040\",\"type\":\"LegendItem\"},{\"attributes\":{\"plot\":null,\"text\":null},\"id\":\"e2f562b5-bb5b-418e-8ae2-e0c649f713d1\",\"type\":\"Title\"},{\"attributes\":{\"axis_label\":\"Count( \\u6027\\u522b )\",\"formatter\":{\"id\":\"e9ec34c1-91ac-4154-a1a4-ee39b9eb0c45\",\"type\":\"BasicTickFormatter\"},\"plot\":{\"id\":\"906c3998-cd3b-4e8a-bb4a-feca5aedf170\",\"subtype\":\"Chart\",\"type\":\"Plot\"},\"ticker\":{\"id\":\"ad7028c7-1e5e-45e2-9126-b266b4783bd1\",\"type\":\"BasicTicker\"}},\"id\":\"6b079b6c-5a68-465c-8e1e-c47add8c6e1e\",\"type\":\"LinearAxis\"},{\"attributes\":{\"callback\":null,\"end\":3152.1},\"id\":\"f263db3b-7646-4291-9fb5-9b631a667b54\",\"type\":\"Range1d\"},{\"attributes\":{\"data_source\":{\"id\":\"503bfd55-a5de-4e76-82ef-0bf31650e20e\",\"type\":\"ColumnDataSource\"},\"glyph\":{\"id\":\"0f19c064-08b0-4842-a2de-a055ae2756a7\",\"type\":\"Rect\"},\"hover_glyph\":null,\"nonselection_glyph\":null,\"selection_glyph\":null},\"id\":\"0651f013-3437-4a47-91a6-35154ed55cdc\",\"type\":\"GlyphRenderer\"},{\"attributes\":{\"data_source\":{\"id\":\"cc05d98f-8394-4077-9412-f212eb0b6692\",\"type\":\"ColumnDataSource\"},\"glyph\":{\"id\":\"26cfc347-44d1-4c16-b44b-7972893be560\",\"type\":\"Rect\"},\"hover_glyph\":null,\"nonselection_glyph\":null,\"selection_glyph\":null},\"id\":\"6cebc41c-9ebb-43a8-bcf7-2017786a31de\",\"type\":\"GlyphRenderer\"}],\"root_ids\":[\"906c3998-cd3b-4e8a-bb4a-feca5aedf170\"]},\"title\":\"Bokeh Application\",\"version\":\"0.12.3\"}};\n",
       "            var render_items = [{\"docid\":\"192a310a-b639-41eb-b700-a7ac004eb785\",\"elementid\":\"7189a4e4-bf43-4d13-95ab-ba4f582ec11a\",\"modelid\":\"906c3998-cd3b-4e8a-bb4a-feca5aedf170\"}];\n",
       "            \n",
       "            Bokeh.embed.embed_items(docs_json, render_items);\n",
       "        });\n",
       "      },\n",
       "      function(Bokeh) {\n",
       "      }\n",
       "    ];\n",
       "  \n",
       "    function run_inline_js() {\n",
       "      \n",
       "      if ((window.Bokeh !== undefined) || (force === \"1\")) {\n",
       "        for (var i = 0; i < inline_js.length; i++) {\n",
       "          inline_js[i](window.Bokeh);\n",
       "        }if (force === \"1\") {\n",
       "          display_loaded();\n",
       "        }} else if (Date.now() < window._bokeh_timeout) {\n",
       "        setTimeout(run_inline_js, 100);\n",
       "      } else if (!window._bokeh_failed_load) {\n",
       "        console.log(\"Bokeh: BokehJS failed to load within specified timeout.\");\n",
       "        window._bokeh_failed_load = true;\n",
       "      } else if (!force) {\n",
       "        var cell = $(\"#7189a4e4-bf43-4d13-95ab-ba4f582ec11a\").parents('.cell').data().cell;\n",
       "        cell.output_area.append_execute_result(NB_LOAD_WARNING)\n",
       "      }\n",
       "  \n",
       "    }\n",
       "  \n",
       "    if (window._bokeh_is_loading === 0) {\n",
       "      console.log(\"Bokeh: BokehJS loaded, going straight to plotting\");\n",
       "      run_inline_js();\n",
       "    } else {\n",
       "      load_libs(js_urls, function() {\n",
       "        console.log(\"Bokeh: BokehJS plotting callback run at\", now());\n",
       "        run_inline_js();\n",
       "      });\n",
       "    }\n",
       "  }(this));\n",
       "</script>"
      ]
     },
     "metadata": {},
     "output_type": "display_data"
    }
   ],
   "source": [
    "# http://bokeh.pydata.org/en/latest/docs/reference/charts.html#bar\n",
    "p = charts.Bar(student_df,label='入学年份', values='性别', agg='count', stack='性别')\n",
    "show(p)"
   ]
  },
  {
   "cell_type": "markdown",
   "metadata": {},
   "source": [
    "## 学生数量及人数分布"
   ]
  },
  {
   "cell_type": "code",
   "execution_count": 8,
   "metadata": {
    "ExecuteTime": {
     "end_time": "2016-11-30T16:37:37.879261",
     "start_time": "2016-11-30T16:37:37.722780"
    },
    "collapsed": false
   },
   "outputs": [],
   "source": [
    "class StudentQueryPanel:\n",
    "    def __init__(self):\n",
    "        self.code_text = ipywidgets.Text(description='学号:')\n",
    "        self.code_text.on_submit(self.handle_text_submit)\n",
    "        self.name_text = ipywidgets.Text(\n",
    "            disabled=True, value='无', description='姓名:')\n",
    "        self.image = ipywidgets.Image(format='jpg', width=260)\n",
    "        self.html = ipywidgets.HTML(description='已选课程班级')\n",
    "        self.panel = ipywidgets.VBox(\n",
    "            [self.image, self.name_text, self.code_text, self.html])\n",
    "        display.display(self.panel)\n",
    "\n",
    "    def handle_text_submit(self, t):\n",
    "        # 先重置\n",
    "        self.image.value = b''\n",
    "        self.name_text.value = '无'\n",
    "        self.html.value = '<b>没有查询到信息</b>'\n",
    "        \n",
    "        student_code = t.value\n",
    "        student = None\n",
    "        if re.match(r'201[2-6]21\\d{4}', student_code):\n",
    "            student_code = int(student_code)\n",
    "            student = db['student'].find_one(filter={'学号': student_code})\n",
    "        if student:\n",
    "            self.image.value = requests.get(\n",
    "                'http://222.195.8.201/student/photo/{:d}/{:d}.JPG'.format(\n",
    "                    student_code // 1000000, student_code)).content\n",
    "            name = student['姓名']\n",
    "            if student['性别'] == '女':\n",
    "                name += '*'\n",
    "            self.name_text.value = name\n",
    "            classes = db['class_student'].find(filter={'学号': student_code})\n",
    "            query = list(map(lambda v: { k: v[k] for k in ('学期代码', '课程代码', '教学班号')}, classes))\n",
    "            classes = list(db['class'].find({\n",
    "                '$or': query\n",
    "            }).sort([('学期代码', pymongo.DESCENDING), ('课程代码', pymongo.DESCENDING)]))\n",
    "            \n",
    "            classes_df = pd.DataFrame(\n",
    "                classes,\n",
    "                columns=[\n",
    "                    '学期代码', '课程代码', '课程名称', '教学班号', '校区', '时间地点', '起止周',\n",
    "                    '开课单位', '任课老师', '优选范围', '性别限制', '禁选范围', '课程类型', '考核类型',\n",
    "                    '学分', '班级容量', '选中人数', '备注'\n",
    "                ])\n",
    "            self.html.value = classes_df._repr_html_()\n",
    "\n",
    "\n",
    "panel = StudentQueryPanel()"
   ]
  },
  {
   "cell_type": "code",
   "execution_count": 9,
   "metadata": {
    "ExecuteTime": {
     "end_time": "2016-11-30T16:37:37.934164",
     "start_time": "2016-11-30T16:37:37.882021"
    },
    "collapsed": false
   },
   "outputs": [
    {
     "data": {
      "text/plain": [
       "<bound method Cursor.sort of <pymongo.cursor.Cursor object at 0x7fdca4da5358>>"
      ]
     },
     "execution_count": 9,
     "metadata": {},
     "output_type": "execute_result"
    }
   ],
   "source": [
    "db['class'].find().sort"
   ]
  },
  {
   "cell_type": "code",
   "execution_count": null,
   "metadata": {
    "collapsed": true
   },
   "outputs": [],
   "source": []
  }
 ],
 "metadata": {
  "anaconda-cloud": {},
  "kernelspec": {
   "display_name": "Python [conda root]",
   "language": "python",
   "name": "conda-root-py"
  },
  "language_info": {
   "codemirror_mode": {
    "name": "ipython",
    "version": 3
   },
   "file_extension": ".py",
   "mimetype": "text/x-python",
   "name": "python",
   "nbconvert_exporter": "python",
   "pygments_lexer": "ipython3",
   "version": "3.5.2"
  },
  "toc": {
   "nav_menu": {
    "height": "84px",
    "width": "252px"
   },
   "navigate_menu": true,
   "number_sections": true,
   "sideBar": true,
   "threshold": 4,
   "toc_cell": false,
   "toc_section_display": "block",
   "toc_window_display": false
  },
  "widgets": {
   "state": {
    "0e9f275a2531493585fc3265a11f0eb2": {
     "views": [
      {
       "cell_index": 8
      }
     ]
    }
   },
   "version": "1.2.0"
  }
 },
 "nbformat": 4,
 "nbformat_minor": 0
}
