{
 "cells": [
  {
   "cell_type": "markdown",
   "metadata": {},
   "source": [
    "# 初始化模块"
   ]
  },
  {
   "cell_type": "code",
   "execution_count": 1,
   "metadata": {
    "ExecuteTime": {
     "end_time": "2016-12-06T14:45:42.221189",
     "start_time": "2016-12-06T14:45:38.444251"
    },
    "collapsed": false
   },
   "outputs": [
    {
     "data": {
      "text/html": [
       "\n",
       "    <div class=\"bk-root\">\n",
       "        <a href=\"http://bokeh.pydata.org\" target=\"_blank\" class=\"bk-logo bk-logo-small bk-logo-notebook\"></a>\n",
       "        <span id=\"a8522f41-85d2-4907-9a41-50cd5dcde4f8\">Loading BokehJS ...</span>\n",
       "    </div>"
      ]
     },
     "metadata": {},
     "output_type": "display_data"
    },
    {
     "data": {
      "application/javascript": [
       "\n",
       "(function(global) {\n",
       "  function now() {\n",
       "    return new Date();\n",
       "  }\n",
       "\n",
       "  var force = \"1\";\n",
       "\n",
       "  if (typeof (window._bokeh_onload_callbacks) === \"undefined\" || force !== \"\") {\n",
       "    window._bokeh_onload_callbacks = [];\n",
       "    window._bokeh_is_loading = undefined;\n",
       "  }\n",
       "\n",
       "\n",
       "  \n",
       "  if (typeof (window._bokeh_timeout) === \"undefined\" || force !== \"\") {\n",
       "    window._bokeh_timeout = Date.now() + 5000;\n",
       "    window._bokeh_failed_load = false;\n",
       "  }\n",
       "\n",
       "  var NB_LOAD_WARNING = {'data': {'text/html':\n",
       "     \"<div style='background-color: #fdd'>\\n\"+\n",
       "     \"<p>\\n\"+\n",
       "     \"BokehJS does not appear to have successfully loaded. If loading BokehJS from CDN, this \\n\"+\n",
       "     \"may be due to a slow or bad network connection. Possible fixes:\\n\"+\n",
       "     \"</p>\\n\"+\n",
       "     \"<ul>\\n\"+\n",
       "     \"<li>re-rerun `output_notebook()` to attempt to load from CDN again, or</li>\\n\"+\n",
       "     \"<li>use INLINE resources instead, as so:</li>\\n\"+\n",
       "     \"</ul>\\n\"+\n",
       "     \"<code>\\n\"+\n",
       "     \"from bokeh.resources import INLINE\\n\"+\n",
       "     \"output_notebook(resources=INLINE)\\n\"+\n",
       "     \"</code>\\n\"+\n",
       "     \"</div>\"}};\n",
       "\n",
       "  function display_loaded() {\n",
       "    if (window.Bokeh !== undefined) {\n",
       "      Bokeh.$(\"#a8522f41-85d2-4907-9a41-50cd5dcde4f8\").text(\"BokehJS successfully loaded.\");\n",
       "    } else if (Date.now() < window._bokeh_timeout) {\n",
       "      setTimeout(display_loaded, 100)\n",
       "    }\n",
       "  }\n",
       "\n",
       "  function run_callbacks() {\n",
       "    window._bokeh_onload_callbacks.forEach(function(callback) { callback() });\n",
       "    delete window._bokeh_onload_callbacks\n",
       "    console.info(\"Bokeh: all callbacks have finished\");\n",
       "  }\n",
       "\n",
       "  function load_libs(js_urls, callback) {\n",
       "    window._bokeh_onload_callbacks.push(callback);\n",
       "    if (window._bokeh_is_loading > 0) {\n",
       "      console.log(\"Bokeh: BokehJS is being loaded, scheduling callback at\", now());\n",
       "      return null;\n",
       "    }\n",
       "    if (js_urls == null || js_urls.length === 0) {\n",
       "      run_callbacks();\n",
       "      return null;\n",
       "    }\n",
       "    console.log(\"Bokeh: BokehJS not loaded, scheduling load and callback at\", now());\n",
       "    window._bokeh_is_loading = js_urls.length;\n",
       "    for (var i = 0; i < js_urls.length; i++) {\n",
       "      var url = js_urls[i];\n",
       "      var s = document.createElement('script');\n",
       "      s.src = url;\n",
       "      s.async = false;\n",
       "      s.onreadystatechange = s.onload = function() {\n",
       "        window._bokeh_is_loading--;\n",
       "        if (window._bokeh_is_loading === 0) {\n",
       "          console.log(\"Bokeh: all BokehJS libraries loaded\");\n",
       "          run_callbacks()\n",
       "        }\n",
       "      };\n",
       "      s.onerror = function() {\n",
       "        console.warn(\"failed to load library \" + url);\n",
       "      };\n",
       "      console.log(\"Bokeh: injecting script tag for BokehJS library: \", url);\n",
       "      document.getElementsByTagName(\"head\")[0].appendChild(s);\n",
       "    }\n",
       "  };var element = document.getElementById(\"a8522f41-85d2-4907-9a41-50cd5dcde4f8\");\n",
       "  if (element == null) {\n",
       "    console.log(\"Bokeh: ERROR: autoload.js configured with elementid 'a8522f41-85d2-4907-9a41-50cd5dcde4f8' but no matching script tag was found. \")\n",
       "    return false;\n",
       "  }\n",
       "\n",
       "  var js_urls = ['https://cdn.pydata.org/bokeh/release/bokeh-0.12.2.min.js', 'https://cdn.pydata.org/bokeh/release/bokeh-widgets-0.12.2.min.js', 'https://cdn.pydata.org/bokeh/release/bokeh-compiler-0.12.2.min.js'];\n",
       "\n",
       "  var inline_js = [\n",
       "    function(Bokeh) {\n",
       "      Bokeh.set_log_level(\"info\");\n",
       "    },\n",
       "    \n",
       "    function(Bokeh) {\n",
       "      \n",
       "      Bokeh.$(\"#a8522f41-85d2-4907-9a41-50cd5dcde4f8\").text(\"BokehJS is loading...\");\n",
       "    },\n",
       "    function(Bokeh) {\n",
       "      console.log(\"Bokeh: injecting CSS: https://cdn.pydata.org/bokeh/release/bokeh-0.12.2.min.css\");\n",
       "      Bokeh.embed.inject_css(\"https://cdn.pydata.org/bokeh/release/bokeh-0.12.2.min.css\");\n",
       "      console.log(\"Bokeh: injecting CSS: https://cdn.pydata.org/bokeh/release/bokeh-widgets-0.12.2.min.css\");\n",
       "      Bokeh.embed.inject_css(\"https://cdn.pydata.org/bokeh/release/bokeh-widgets-0.12.2.min.css\");\n",
       "    }\n",
       "  ];\n",
       "\n",
       "  function run_inline_js() {\n",
       "    \n",
       "    if ((window.Bokeh !== undefined) || (force === \"1\")) {\n",
       "      for (var i = 0; i < inline_js.length; i++) {\n",
       "        inline_js[i](window.Bokeh);\n",
       "      }if (force === \"1\") {\n",
       "        display_loaded();\n",
       "      }} else if (Date.now() < window._bokeh_timeout) {\n",
       "      setTimeout(run_inline_js, 100);\n",
       "    } else if (!window._bokeh_failed_load) {\n",
       "      console.log(\"Bokeh: BokehJS failed to load within specified timeout.\");\n",
       "      window._bokeh_failed_load = true;\n",
       "    } else if (!force) {\n",
       "      var cell = $(\"#a8522f41-85d2-4907-9a41-50cd5dcde4f8\").parents('.cell').data().cell;\n",
       "      cell.output_area.append_execute_result(NB_LOAD_WARNING)\n",
       "    }\n",
       "\n",
       "  }\n",
       "\n",
       "  if (window._bokeh_is_loading === 0) {\n",
       "    console.log(\"Bokeh: BokehJS loaded, going straight to plotting\");\n",
       "    run_inline_js();\n",
       "  } else {\n",
       "    load_libs(js_urls, function() {\n",
       "      console.log(\"Bokeh: BokehJS plotting callback run at\", now());\n",
       "      run_inline_js();\n",
       "    });\n",
       "  }\n",
       "}(this));"
      ]
     },
     "metadata": {},
     "output_type": "display_data"
    }
   ],
   "source": [
    "import re\n",
    "import numpy as np\n",
    "import pandas as pd\n",
    "import pymongo\n",
    "import requests\n",
    "import ipywidgets\n",
    "from IPython import display\n",
    "from bokeh import charts\n",
    "from bokeh.io import push_notebook, show, output_notebook\n",
    "output_notebook()\n",
    "\n",
    "client = pymongo.MongoClient()\n",
    "db = client['hfut']"
   ]
  },
  {
   "cell_type": "markdown",
   "metadata": {},
   "source": [
    "# 数据分析"
   ]
  },
  {
   "cell_type": "markdown",
   "metadata": {},
   "source": [
    "## 数据总量"
   ]
  },
  {
   "cell_type": "code",
   "execution_count": 2,
   "metadata": {
    "ExecuteTime": {
     "end_time": "2016-12-06T14:45:42.241926",
     "start_time": "2016-12-06T14:45:42.223936"
    },
    "collapsed": false
   },
   "outputs": [
    {
     "name": "stdout",
     "output_type": "stream",
     "text": [
      "专业记录 120 条\n",
      "学期记录 10 条\n",
      "课程记录 1231 条\n",
      "专业计划记录 2874 条\n",
      "教学班记录 10013 条\n",
      "学生记录 13567 条\n",
      "教学班-学生关系记录 822919 条\n"
     ]
    }
   ],
   "source": [
    "print('专业记录', db['major'].count(), '条')\n",
    "print('学期记录', db['term'].count(), '条')\n",
    "print('课程记录', db['course'].count(), '条')\n",
    "print('专业计划记录', db['plan'].count(), '条')\n",
    "print('教学班记录', db['class'].count(), '条')\n",
    "print('学生记录', db['student'].count(), '条')\n",
    "print('教学班-学生关系记录', db['class_student'].count(), '条')"
   ]
  },
  {
   "cell_type": "code",
   "execution_count": 3,
   "metadata": {
    "ExecuteTime": {
     "end_time": "2016-12-06T14:45:42.686129",
     "start_time": "2016-12-06T14:45:42.244816"
    },
    "collapsed": false,
    "scrolled": false
   },
   "outputs": [
    {
     "data": {
      "text/html": [
       "<div>\n",
       "<table border=\"1\" class=\"dataframe\">\n",
       "  <thead>\n",
       "    <tr style=\"text-align: right;\">\n",
       "      <th>性别</th>\n",
       "      <th>女</th>\n",
       "      <th>男</th>\n",
       "      <th>比例</th>\n",
       "      <th>合计</th>\n",
       "    </tr>\n",
       "    <tr>\n",
       "      <th>入学年份</th>\n",
       "      <th></th>\n",
       "      <th></th>\n",
       "      <th></th>\n",
       "      <th></th>\n",
       "    </tr>\n",
       "  </thead>\n",
       "  <tbody>\n",
       "    <tr>\n",
       "      <th>2012</th>\n",
       "      <td>586</td>\n",
       "      <td>2037</td>\n",
       "      <td>3.476109</td>\n",
       "      <td>2623</td>\n",
       "    </tr>\n",
       "    <tr>\n",
       "      <th>2013</th>\n",
       "      <td>604</td>\n",
       "      <td>2332</td>\n",
       "      <td>3.860927</td>\n",
       "      <td>2936</td>\n",
       "    </tr>\n",
       "    <tr>\n",
       "      <th>2014</th>\n",
       "      <td>590</td>\n",
       "      <td>2412</td>\n",
       "      <td>4.088136</td>\n",
       "      <td>3002</td>\n",
       "    </tr>\n",
       "    <tr>\n",
       "      <th>2015</th>\n",
       "      <td>650</td>\n",
       "      <td>2346</td>\n",
       "      <td>3.609231</td>\n",
       "      <td>2996</td>\n",
       "    </tr>\n",
       "    <tr>\n",
       "      <th>2016</th>\n",
       "      <td>459</td>\n",
       "      <td>1551</td>\n",
       "      <td>3.379085</td>\n",
       "      <td>2010</td>\n",
       "    </tr>\n",
       "  </tbody>\n",
       "</table>\n",
       "</div>"
      ],
      "text/plain": [
       "性别      女     男        比例    合计\n",
       "入学年份                           \n",
       "2012  586  2037  3.476109  2623\n",
       "2013  604  2332  3.860927  2936\n",
       "2014  590  2412  4.088136  3002\n",
       "2015  650  2346  3.609231  2996\n",
       "2016  459  1551  3.379085  2010"
      ]
     },
     "execution_count": 3,
     "metadata": {},
     "output_type": "execute_result"
    }
   ],
   "source": [
    "# http://bokeh.pydata.org/en/latest/docs/user_guide/charts.html\n",
    "student_df = pd.DataFrame(list(db['student'].find()), columns=['学号', '姓名', '性别'])\n",
    "student_df['入学年份'] = student_df['学号'] // 1000000\n",
    "# http://pandas.pydata.org/pandas-docs/stable/generated/pandas.DataFrame.groupby.html\n",
    "_ = student_df.groupby(student_df['入学年份']).apply(lambda df: df.groupby(df['性别']).count())\n",
    "_ = _.unstack()['学号']\n",
    "_['比例'] = _['男'] / _['女']\n",
    "_['合计'] = _['男'] + _['女']\n",
    "_"
   ]
  },
  {
   "cell_type": "code",
   "execution_count": 4,
   "metadata": {
    "ExecuteTime": {
     "end_time": "2016-12-06T14:45:44.201590",
     "start_time": "2016-12-06T14:45:42.688221"
    },
    "collapsed": false
   },
   "outputs": [
    {
     "data": {
      "text/html": [
       "\n",
       "\n",
       "    <div class=\"bk-root\">\n",
       "        <div class=\"plotdiv\" id=\"a0bf03b2-e939-4663-bb5c-2abc07a6997e\"></div>\n",
       "    </div>\n",
       "<script type=\"text/javascript\">\n",
       "  \n",
       "  (function(global) {\n",
       "    function now() {\n",
       "      return new Date();\n",
       "    }\n",
       "  \n",
       "    var force = \"\";\n",
       "  \n",
       "    if (typeof (window._bokeh_onload_callbacks) === \"undefined\" || force !== \"\") {\n",
       "      window._bokeh_onload_callbacks = [];\n",
       "      window._bokeh_is_loading = undefined;\n",
       "    }\n",
       "  \n",
       "  \n",
       "    \n",
       "    if (typeof (window._bokeh_timeout) === \"undefined\" || force !== \"\") {\n",
       "      window._bokeh_timeout = Date.now() + 0;\n",
       "      window._bokeh_failed_load = false;\n",
       "    }\n",
       "  \n",
       "    var NB_LOAD_WARNING = {'data': {'text/html':\n",
       "       \"<div style='background-color: #fdd'>\\n\"+\n",
       "       \"<p>\\n\"+\n",
       "       \"BokehJS does not appear to have successfully loaded. If loading BokehJS from CDN, this \\n\"+\n",
       "       \"may be due to a slow or bad network connection. Possible fixes:\\n\"+\n",
       "       \"</p>\\n\"+\n",
       "       \"<ul>\\n\"+\n",
       "       \"<li>re-rerun `output_notebook()` to attempt to load from CDN again, or</li>\\n\"+\n",
       "       \"<li>use INLINE resources instead, as so:</li>\\n\"+\n",
       "       \"</ul>\\n\"+\n",
       "       \"<code>\\n\"+\n",
       "       \"from bokeh.resources import INLINE\\n\"+\n",
       "       \"output_notebook(resources=INLINE)\\n\"+\n",
       "       \"</code>\\n\"+\n",
       "       \"</div>\"}};\n",
       "  \n",
       "    function display_loaded() {\n",
       "      if (window.Bokeh !== undefined) {\n",
       "        Bokeh.$(\"#a0bf03b2-e939-4663-bb5c-2abc07a6997e\").text(\"BokehJS successfully loaded.\");\n",
       "      } else if (Date.now() < window._bokeh_timeout) {\n",
       "        setTimeout(display_loaded, 100)\n",
       "      }\n",
       "    }\n",
       "  \n",
       "    function run_callbacks() {\n",
       "      window._bokeh_onload_callbacks.forEach(function(callback) { callback() });\n",
       "      delete window._bokeh_onload_callbacks\n",
       "      console.info(\"Bokeh: all callbacks have finished\");\n",
       "    }\n",
       "  \n",
       "    function load_libs(js_urls, callback) {\n",
       "      window._bokeh_onload_callbacks.push(callback);\n",
       "      if (window._bokeh_is_loading > 0) {\n",
       "        console.log(\"Bokeh: BokehJS is being loaded, scheduling callback at\", now());\n",
       "        return null;\n",
       "      }\n",
       "      if (js_urls == null || js_urls.length === 0) {\n",
       "        run_callbacks();\n",
       "        return null;\n",
       "      }\n",
       "      console.log(\"Bokeh: BokehJS not loaded, scheduling load and callback at\", now());\n",
       "      window._bokeh_is_loading = js_urls.length;\n",
       "      for (var i = 0; i < js_urls.length; i++) {\n",
       "        var url = js_urls[i];\n",
       "        var s = document.createElement('script');\n",
       "        s.src = url;\n",
       "        s.async = false;\n",
       "        s.onreadystatechange = s.onload = function() {\n",
       "          window._bokeh_is_loading--;\n",
       "          if (window._bokeh_is_loading === 0) {\n",
       "            console.log(\"Bokeh: all BokehJS libraries loaded\");\n",
       "            run_callbacks()\n",
       "          }\n",
       "        };\n",
       "        s.onerror = function() {\n",
       "          console.warn(\"failed to load library \" + url);\n",
       "        };\n",
       "        console.log(\"Bokeh: injecting script tag for BokehJS library: \", url);\n",
       "        document.getElementsByTagName(\"head\")[0].appendChild(s);\n",
       "      }\n",
       "    };var element = document.getElementById(\"a0bf03b2-e939-4663-bb5c-2abc07a6997e\");\n",
       "    if (element == null) {\n",
       "      console.log(\"Bokeh: ERROR: autoload.js configured with elementid 'a0bf03b2-e939-4663-bb5c-2abc07a6997e' but no matching script tag was found. \")\n",
       "      return false;\n",
       "    }\n",
       "  \n",
       "    var js_urls = [];\n",
       "  \n",
       "    var inline_js = [\n",
       "      function(Bokeh) {\n",
       "        Bokeh.$(function() {\n",
       "            var docs_json = {\"f44cd0cf-1453-4e87-aa15-fad01cfa4b9e\":{\"roots\":{\"references\":[{\"attributes\":{\"callback\":null,\"column_names\":[\"color\",\"line_color\",\"fill_alpha\",\"line_alpha\",\"width\",\"y\",\"height\",\"x\",\"label\"],\"data\":{\"chart_index\":[{\"\\u5165\\u5b66\\u5e74\\u4efd\":2013,\"\\u6027\\u522b\":\"\\u7537\"}],\"color\":[\"#5ab738\"],\"fill_alpha\":[0.8],\"height\":[2332.0],\"label\":[{\"\\u5165\\u5b66\\u5e74\\u4efd\":2013,\"\\u6027\\u522b\":\"\\u7537\"}],\"line_alpha\":[1.0],\"line_color\":[\"white\"],\"width\":[0.8],\"x\":[\"2013\"],\"y\":[1166.0],\"\\u5165\\u5b66\\u5e74\\u4efd\":[2013],\"\\u6027\\u522b\":[\"\\u7537\"]}},\"id\":\"e07477c8-c211-4be8-b10c-69638b51a5cf\",\"type\":\"ColumnDataSource\"},{\"attributes\":{\"fill_alpha\":{\"field\":\"fill_alpha\"},\"fill_color\":{\"field\":\"color\"},\"height\":{\"field\":\"height\",\"units\":\"data\"},\"line_color\":{\"field\":\"line_color\"},\"width\":{\"field\":\"width\",\"units\":\"data\"},\"x\":{\"field\":\"x\"},\"y\":{\"field\":\"y\"}},\"id\":\"93c1d1bb-a0c5-4179-bad3-fec0eb3de4a5\",\"type\":\"Rect\"},{\"attributes\":{\"plot\":{\"id\":\"8e8b13d8-443f-4fa5-bc35-09790a4479bf\",\"subtype\":\"Chart\",\"type\":\"Plot\"}},\"id\":\"971a7904-191e-4512-9102-da50a964046b\",\"type\":\"SaveTool\"},{\"attributes\":{\"fill_alpha\":{\"field\":\"fill_alpha\"},\"fill_color\":{\"field\":\"color\"},\"height\":{\"field\":\"height\",\"units\":\"data\"},\"line_color\":{\"field\":\"line_color\"},\"width\":{\"field\":\"width\",\"units\":\"data\"},\"x\":{\"field\":\"x\"},\"y\":{\"field\":\"y\"}},\"id\":\"01dc8be8-8419-413c-8a76-f84ede7b1357\",\"type\":\"Rect\"},{\"attributes\":{\"data_source\":{\"id\":\"fa45db34-d223-4b68-aafb-35f59ef2370f\",\"type\":\"ColumnDataSource\"},\"glyph\":{\"id\":\"06d6a921-116b-4065-aee7-4f78cc779d7d\",\"type\":\"Rect\"},\"hover_glyph\":null,\"nonselection_glyph\":null,\"selection_glyph\":null},\"id\":\"9501842d-a06b-4a3d-8444-53c14424f969\",\"type\":\"GlyphRenderer\"},{\"attributes\":{\"plot\":{\"id\":\"8e8b13d8-443f-4fa5-bc35-09790a4479bf\",\"subtype\":\"Chart\",\"type\":\"Plot\"}},\"id\":\"810d1231-1279-42f6-9097-7112f64bd139\",\"type\":\"PanTool\"},{\"attributes\":{\"bottom_units\":\"screen\",\"fill_alpha\":{\"value\":0.5},\"fill_color\":{\"value\":\"lightgrey\"},\"left_units\":\"screen\",\"level\":\"overlay\",\"line_alpha\":{\"value\":1.0},\"line_color\":{\"value\":\"black\"},\"line_dash\":[4,4],\"line_width\":{\"value\":2},\"plot\":null,\"render_mode\":\"css\",\"right_units\":\"screen\",\"top_units\":\"screen\"},\"id\":\"0d9fe78a-c18b-487f-8988-faf13dcbc2e7\",\"type\":\"BoxAnnotation\"},{\"attributes\":{\"plot\":{\"id\":\"8e8b13d8-443f-4fa5-bc35-09790a4479bf\",\"subtype\":\"Chart\",\"type\":\"Plot\"}},\"id\":\"b6876557-4193-4324-a531-74d73af44fa7\",\"type\":\"WheelZoomTool\"},{\"attributes\":{\"plot\":null,\"text\":null},\"id\":\"8945cf49-5ce2-4cfd-a974-dfb6f7a7de51\",\"type\":\"Title\"},{\"attributes\":{\"data_source\":{\"id\":\"a13eb954-e92c-40fa-b17b-90b45ea92dd9\",\"type\":\"ColumnDataSource\"},\"glyph\":{\"id\":\"e3a242a9-35ad-44a8-954c-c1ffda6c6718\",\"type\":\"Rect\"},\"hover_glyph\":null,\"nonselection_glyph\":null,\"selection_glyph\":null},\"id\":\"adbcef2a-6b33-4e13-8ac5-9aa89d0315ee\",\"type\":\"GlyphRenderer\"},{\"attributes\":{\"overlay\":{\"id\":\"0d9fe78a-c18b-487f-8988-faf13dcbc2e7\",\"type\":\"BoxAnnotation\"},\"plot\":{\"id\":\"8e8b13d8-443f-4fa5-bc35-09790a4479bf\",\"subtype\":\"Chart\",\"type\":\"Plot\"}},\"id\":\"2911c2ae-6f8f-4433-97c4-65ea7eeded87\",\"type\":\"BoxZoomTool\"},{\"attributes\":{\"plot\":{\"id\":\"8e8b13d8-443f-4fa5-bc35-09790a4479bf\",\"subtype\":\"Chart\",\"type\":\"Plot\"}},\"id\":\"f49f6633-b043-4766-b92f-1cc53a866f64\",\"type\":\"HelpTool\"},{\"attributes\":{\"data_source\":{\"id\":\"d250fc08-d2aa-454a-80cd-3596940a3ff4\",\"type\":\"ColumnDataSource\"},\"glyph\":{\"id\":\"93c1d1bb-a0c5-4179-bad3-fec0eb3de4a5\",\"type\":\"Rect\"},\"hover_glyph\":null,\"nonselection_glyph\":null,\"selection_glyph\":null},\"id\":\"3faa333c-30d1-4f99-acd0-da6223f58d28\",\"type\":\"GlyphRenderer\"},{\"attributes\":{\"fill_alpha\":{\"field\":\"fill_alpha\"},\"fill_color\":{\"field\":\"color\"},\"height\":{\"field\":\"height\",\"units\":\"data\"},\"line_color\":{\"field\":\"line_color\"},\"width\":{\"field\":\"width\",\"units\":\"data\"},\"x\":{\"field\":\"x\"},\"y\":{\"field\":\"y\"}},\"id\":\"f19b7f71-9eaf-427c-9027-64de3ddec2ca\",\"type\":\"Rect\"},{\"attributes\":{\"below\":[{\"id\":\"818f9ee4-1864-49b5-9004-7bd7548f97b4\",\"type\":\"CategoricalAxis\"}],\"left\":[{\"id\":\"e2a0eadb-0669-49de-9016-341e1d9f566a\",\"type\":\"LinearAxis\"}],\"renderers\":[{\"id\":\"0d9fe78a-c18b-487f-8988-faf13dcbc2e7\",\"type\":\"BoxAnnotation\"},{\"id\":\"74bca39d-c5b3-4830-8861-32ce4e8be81e\",\"type\":\"GlyphRenderer\"},{\"id\":\"ee9ff392-222b-4ee5-a27a-a15ee7a393bc\",\"type\":\"GlyphRenderer\"},{\"id\":\"fe9e8eda-4e17-4114-bf71-c9d988be73df\",\"type\":\"GlyphRenderer\"},{\"id\":\"adbcef2a-6b33-4e13-8ac5-9aa89d0315ee\",\"type\":\"GlyphRenderer\"},{\"id\":\"6882a05f-29a3-4fdc-8a91-674ebf578df4\",\"type\":\"GlyphRenderer\"},{\"id\":\"11bd447b-7256-471d-8beb-f8a1bcb13276\",\"type\":\"GlyphRenderer\"},{\"id\":\"4bde7ef1-d6c2-47a1-af54-b612c0e58b63\",\"type\":\"GlyphRenderer\"},{\"id\":\"9501842d-a06b-4a3d-8444-53c14424f969\",\"type\":\"GlyphRenderer\"},{\"id\":\"525aa50c-d8a0-423b-bb30-55a2a244bf7a\",\"type\":\"GlyphRenderer\"},{\"id\":\"3faa333c-30d1-4f99-acd0-da6223f58d28\",\"type\":\"GlyphRenderer\"},{\"id\":\"b6b1473b-3b5d-4164-8481-b3e9f47ede00\",\"type\":\"Legend\"},{\"id\":\"818f9ee4-1864-49b5-9004-7bd7548f97b4\",\"type\":\"CategoricalAxis\"},{\"id\":\"e2a0eadb-0669-49de-9016-341e1d9f566a\",\"type\":\"LinearAxis\"},{\"id\":\"00b3f6b2-1935-421e-a731-4c491982fb52\",\"type\":\"Grid\"}],\"title\":{\"id\":\"8945cf49-5ce2-4cfd-a974-dfb6f7a7de51\",\"type\":\"Title\"},\"tool_events\":{\"id\":\"24c1c0f9-8183-4614-88a3-5a952b14d1a9\",\"type\":\"ToolEvents\"},\"toolbar\":{\"id\":\"d4428016-5953-4b8f-a218-d0534c36edae\",\"type\":\"Toolbar\"},\"x_mapper_type\":\"auto\",\"x_range\":{\"id\":\"d3086368-7e74-477a-a4ea-39b02b73edc1\",\"type\":\"FactorRange\"},\"y_mapper_type\":\"auto\",\"y_range\":{\"id\":\"a8536978-0896-4434-9121-00a4f97eedf3\",\"type\":\"Range1d\"}},\"id\":\"8e8b13d8-443f-4fa5-bc35-09790a4479bf\",\"subtype\":\"Chart\",\"type\":\"Plot\"},{\"attributes\":{\"callback\":null,\"column_names\":[\"color\",\"line_color\",\"fill_alpha\",\"line_alpha\",\"width\",\"y\",\"height\",\"x\",\"label\"],\"data\":{\"chart_index\":[{\"\\u5165\\u5b66\\u5e74\\u4efd\":2012,\"\\u6027\\u522b\":\"\\u5973\"}],\"color\":[\"#f22c40\"],\"fill_alpha\":[0.8],\"height\":[586.0],\"label\":[{\"\\u5165\\u5b66\\u5e74\\u4efd\":2012,\"\\u6027\\u522b\":\"\\u5973\"}],\"line_alpha\":[1.0],\"line_color\":[\"white\"],\"width\":[0.8],\"x\":[\"2012\"],\"y\":[2330.0],\"\\u5165\\u5b66\\u5e74\\u4efd\":[2012],\"\\u6027\\u522b\":[\"\\u5973\"]}},\"id\":\"fa45db34-d223-4b68-aafb-35f59ef2370f\",\"type\":\"ColumnDataSource\"},{\"attributes\":{},\"id\":\"d9923843-5f2e-4f62-be65-bd42f66fae0b\",\"type\":\"CategoricalTickFormatter\"},{\"attributes\":{\"callback\":null,\"column_names\":[\"color\",\"line_color\",\"fill_alpha\",\"line_alpha\",\"width\",\"y\",\"height\",\"x\",\"label\"],\"data\":{\"chart_index\":[{\"\\u5165\\u5b66\\u5e74\\u4efd\":2016,\"\\u6027\\u522b\":\"\\u5973\"}],\"color\":[\"#f22c40\"],\"fill_alpha\":[0.8],\"height\":[459.0],\"label\":[{\"\\u5165\\u5b66\\u5e74\\u4efd\":2016,\"\\u6027\\u522b\":\"\\u5973\"}],\"line_alpha\":[1.0],\"line_color\":[\"white\"],\"width\":[0.8],\"x\":[\"2016\"],\"y\":[1780.5],\"\\u5165\\u5b66\\u5e74\\u4efd\":[2016],\"\\u6027\\u522b\":[\"\\u5973\"]}},\"id\":\"d250fc08-d2aa-454a-80cd-3596940a3ff4\",\"type\":\"ColumnDataSource\"},{\"attributes\":{\"callback\":null,\"column_names\":[\"color\",\"line_color\",\"fill_alpha\",\"line_alpha\",\"width\",\"y\",\"height\",\"x\",\"label\"],\"data\":{\"chart_index\":[{\"\\u5165\\u5b66\\u5e74\\u4efd\":2015,\"\\u6027\\u522b\":\"\\u7537\"}],\"color\":[\"#5ab738\"],\"fill_alpha\":[0.8],\"height\":[2346.0],\"label\":[{\"\\u5165\\u5b66\\u5e74\\u4efd\":2015,\"\\u6027\\u522b\":\"\\u7537\"}],\"line_alpha\":[1.0],\"line_color\":[\"white\"],\"width\":[0.8],\"x\":[\"2015\"],\"y\":[1173.0],\"\\u5165\\u5b66\\u5e74\\u4efd\":[2015],\"\\u6027\\u522b\":[\"\\u7537\"]}},\"id\":\"99e98509-2730-4e51-96cc-80909c18de59\",\"type\":\"ColumnDataSource\"},{\"attributes\":{\"legends\":[[\"\\u7537\",[{\"id\":\"74bca39d-c5b3-4830-8861-32ce4e8be81e\",\"type\":\"GlyphRenderer\"}]],[\"\\u5973\",[{\"id\":\"ee9ff392-222b-4ee5-a27a-a15ee7a393bc\",\"type\":\"GlyphRenderer\"}]]],\"location\":\"top_left\",\"plot\":{\"id\":\"8e8b13d8-443f-4fa5-bc35-09790a4479bf\",\"subtype\":\"Chart\",\"type\":\"Plot\"}},\"id\":\"b6b1473b-3b5d-4164-8481-b3e9f47ede00\",\"type\":\"Legend\"},{\"attributes\":{\"fill_alpha\":{\"field\":\"fill_alpha\"},\"fill_color\":{\"field\":\"color\"},\"height\":{\"field\":\"height\",\"units\":\"data\"},\"line_color\":{\"field\":\"line_color\"},\"width\":{\"field\":\"width\",\"units\":\"data\"},\"x\":{\"field\":\"x\"},\"y\":{\"field\":\"y\"}},\"id\":\"bae916e6-d24a-49d1-bf5d-113fc2119acf\",\"type\":\"Rect\"},{\"attributes\":{\"fill_alpha\":{\"field\":\"fill_alpha\"},\"fill_color\":{\"field\":\"color\"},\"height\":{\"field\":\"height\",\"units\":\"data\"},\"line_color\":{\"field\":\"line_color\"},\"width\":{\"field\":\"width\",\"units\":\"data\"},\"x\":{\"field\":\"x\"},\"y\":{\"field\":\"y\"}},\"id\":\"e3a242a9-35ad-44a8-954c-c1ffda6c6718\",\"type\":\"Rect\"},{\"attributes\":{\"data_source\":{\"id\":\"e07477c8-c211-4be8-b10c-69638b51a5cf\",\"type\":\"ColumnDataSource\"},\"glyph\":{\"id\":\"cd143bb0-06e6-442a-8200-6dc557eaf869\",\"type\":\"Rect\"},\"hover_glyph\":null,\"nonselection_glyph\":null,\"selection_glyph\":null},\"id\":\"6882a05f-29a3-4fdc-8a91-674ebf578df4\",\"type\":\"GlyphRenderer\"},{\"attributes\":{\"callback\":null,\"column_names\":[\"color\",\"line_color\",\"fill_alpha\",\"line_alpha\",\"width\",\"y\",\"height\",\"x\",\"label\"],\"data\":{\"chart_index\":[{\"\\u5165\\u5b66\\u5e74\\u4efd\":2013,\"\\u6027\\u522b\":\"\\u5973\"}],\"color\":[\"#f22c40\"],\"fill_alpha\":[0.8],\"height\":[604.0],\"label\":[{\"\\u5165\\u5b66\\u5e74\\u4efd\":2013,\"\\u6027\\u522b\":\"\\u5973\"}],\"line_alpha\":[1.0],\"line_color\":[\"white\"],\"width\":[0.8],\"x\":[\"2013\"],\"y\":[2634.0],\"\\u5165\\u5b66\\u5e74\\u4efd\":[2013],\"\\u6027\\u522b\":[\"\\u5973\"]}},\"id\":\"494a185e-690d-425d-94db-7e6981547eb1\",\"type\":\"ColumnDataSource\"},{\"attributes\":{\"callback\":null,\"column_names\":[\"color\",\"line_color\",\"fill_alpha\",\"line_alpha\",\"width\",\"y\",\"height\",\"x\",\"label\"],\"data\":{\"chart_index\":[{\"\\u5165\\u5b66\\u5e74\\u4efd\":2014,\"\\u6027\\u522b\":\"\\u7537\"}],\"color\":[\"#5ab738\"],\"fill_alpha\":[0.8],\"height\":[2412.0],\"label\":[{\"\\u5165\\u5b66\\u5e74\\u4efd\":2014,\"\\u6027\\u522b\":\"\\u7537\"}],\"line_alpha\":[1.0],\"line_color\":[\"white\"],\"width\":[0.8],\"x\":[\"2014\"],\"y\":[1206.0],\"\\u5165\\u5b66\\u5e74\\u4efd\":[2014],\"\\u6027\\u522b\":[\"\\u7537\"]}},\"id\":\"b67fc782-1810-4c44-84f6-b66061d3a8bd\",\"type\":\"ColumnDataSource\"},{\"attributes\":{\"data_source\":{\"id\":\"c7574bbe-dd2a-4989-83bd-b02b8fa78df9\",\"type\":\"ColumnDataSource\"},\"glyph\":{\"id\":\"1c047695-af1d-4da2-9e00-3f5ab4d04717\",\"type\":\"Rect\"},\"hover_glyph\":null,\"nonselection_glyph\":null,\"selection_glyph\":null},\"id\":\"ee9ff392-222b-4ee5-a27a-a15ee7a393bc\",\"type\":\"GlyphRenderer\"},{\"attributes\":{\"axis_label\":\"Count( \\u6027\\u522b )\",\"formatter\":{\"id\":\"303ddbf3-73f5-4670-ac74-a161624ec9bf\",\"type\":\"BasicTickFormatter\"},\"plot\":{\"id\":\"8e8b13d8-443f-4fa5-bc35-09790a4479bf\",\"subtype\":\"Chart\",\"type\":\"Plot\"},\"ticker\":{\"id\":\"30d6e6db-5646-4418-a300-809d343d5661\",\"type\":\"BasicTicker\"}},\"id\":\"e2a0eadb-0669-49de-9016-341e1d9f566a\",\"type\":\"LinearAxis\"},{\"attributes\":{\"data_source\":{\"id\":\"94194ca3-a0ae-437e-b32a-d3af7d8edd5e\",\"type\":\"ColumnDataSource\"},\"glyph\":{\"id\":\"6708e9df-3d4b-4c26-b9da-bf3cecb72931\",\"type\":\"Rect\"},\"hover_glyph\":null,\"nonselection_glyph\":null,\"selection_glyph\":null},\"id\":\"525aa50c-d8a0-423b-bb30-55a2a244bf7a\",\"type\":\"GlyphRenderer\"},{\"attributes\":{\"callback\":null,\"end\":3152.1},\"id\":\"a8536978-0896-4434-9121-00a4f97eedf3\",\"type\":\"Range1d\"},{\"attributes\":{\"active_drag\":\"auto\",\"active_scroll\":\"auto\",\"active_tap\":\"auto\",\"tools\":[{\"id\":\"810d1231-1279-42f6-9097-7112f64bd139\",\"type\":\"PanTool\"},{\"id\":\"b6876557-4193-4324-a531-74d73af44fa7\",\"type\":\"WheelZoomTool\"},{\"id\":\"2911c2ae-6f8f-4433-97c4-65ea7eeded87\",\"type\":\"BoxZoomTool\"},{\"id\":\"971a7904-191e-4512-9102-da50a964046b\",\"type\":\"SaveTool\"},{\"id\":\"36b7e52f-2b53-4136-a043-a1db4c8aac39\",\"type\":\"ResetTool\"},{\"id\":\"f49f6633-b043-4766-b92f-1cc53a866f64\",\"type\":\"HelpTool\"}]},\"id\":\"d4428016-5953-4b8f-a218-d0534c36edae\",\"type\":\"Toolbar\"},{\"attributes\":{\"data_source\":{\"id\":\"494a185e-690d-425d-94db-7e6981547eb1\",\"type\":\"ColumnDataSource\"},\"glyph\":{\"id\":\"f19b7f71-9eaf-427c-9027-64de3ddec2ca\",\"type\":\"Rect\"},\"hover_glyph\":null,\"nonselection_glyph\":null,\"selection_glyph\":null},\"id\":\"11bd447b-7256-471d-8beb-f8a1bcb13276\",\"type\":\"GlyphRenderer\"},{\"attributes\":{\"data_source\":{\"id\":\"99e98509-2730-4e51-96cc-80909c18de59\",\"type\":\"ColumnDataSource\"},\"glyph\":{\"id\":\"01dc8be8-8419-413c-8a76-f84ede7b1357\",\"type\":\"Rect\"},\"hover_glyph\":null,\"nonselection_glyph\":null,\"selection_glyph\":null},\"id\":\"74bca39d-c5b3-4830-8861-32ce4e8be81e\",\"type\":\"GlyphRenderer\"},{\"attributes\":{\"callback\":null,\"column_names\":[\"color\",\"line_color\",\"fill_alpha\",\"line_alpha\",\"width\",\"y\",\"height\",\"x\",\"label\"],\"data\":{\"chart_index\":[{\"\\u5165\\u5b66\\u5e74\\u4efd\":2015,\"\\u6027\\u522b\":\"\\u5973\"}],\"color\":[\"#f22c40\"],\"fill_alpha\":[0.8],\"height\":[650.0],\"label\":[{\"\\u5165\\u5b66\\u5e74\\u4efd\":2015,\"\\u6027\\u522b\":\"\\u5973\"}],\"line_alpha\":[1.0],\"line_color\":[\"white\"],\"width\":[0.8],\"x\":[\"2015\"],\"y\":[2671.0],\"\\u5165\\u5b66\\u5e74\\u4efd\":[2015],\"\\u6027\\u522b\":[\"\\u5973\"]}},\"id\":\"c7574bbe-dd2a-4989-83bd-b02b8fa78df9\",\"type\":\"ColumnDataSource\"},{\"attributes\":{\"plot\":{\"id\":\"8e8b13d8-443f-4fa5-bc35-09790a4479bf\",\"subtype\":\"Chart\",\"type\":\"Plot\"}},\"id\":\"36b7e52f-2b53-4136-a043-a1db4c8aac39\",\"type\":\"ResetTool\"},{\"attributes\":{\"callback\":null,\"column_names\":[\"color\",\"line_color\",\"fill_alpha\",\"line_alpha\",\"width\",\"y\",\"height\",\"x\",\"label\"],\"data\":{\"chart_index\":[{\"\\u5165\\u5b66\\u5e74\\u4efd\":2014,\"\\u6027\\u522b\":\"\\u5973\"}],\"color\":[\"#f22c40\"],\"fill_alpha\":[0.8],\"height\":[590.0],\"label\":[{\"\\u5165\\u5b66\\u5e74\\u4efd\":2014,\"\\u6027\\u522b\":\"\\u5973\"}],\"line_alpha\":[1.0],\"line_color\":[\"white\"],\"width\":[0.8],\"x\":[\"2014\"],\"y\":[2707.0],\"\\u5165\\u5b66\\u5e74\\u4efd\":[2014],\"\\u6027\\u522b\":[\"\\u5973\"]}},\"id\":\"a13eb954-e92c-40fa-b17b-90b45ea92dd9\",\"type\":\"ColumnDataSource\"},{\"attributes\":{},\"id\":\"eda64f92-a1f5-4742-8d4f-24806587c5ef\",\"type\":\"CategoricalTicker\"},{\"attributes\":{\"fill_alpha\":{\"field\":\"fill_alpha\"},\"fill_color\":{\"field\":\"color\"},\"height\":{\"field\":\"height\",\"units\":\"data\"},\"line_color\":{\"field\":\"line_color\"},\"width\":{\"field\":\"width\",\"units\":\"data\"},\"x\":{\"field\":\"x\"},\"y\":{\"field\":\"y\"}},\"id\":\"cd143bb0-06e6-442a-8200-6dc557eaf869\",\"type\":\"Rect\"},{\"attributes\":{\"axis_label\":\"\\u5165\\u5b66\\u5e74\\u4efd\",\"formatter\":{\"id\":\"d9923843-5f2e-4f62-be65-bd42f66fae0b\",\"type\":\"CategoricalTickFormatter\"},\"major_label_orientation\":0.7853981633974483,\"plot\":{\"id\":\"8e8b13d8-443f-4fa5-bc35-09790a4479bf\",\"subtype\":\"Chart\",\"type\":\"Plot\"},\"ticker\":{\"id\":\"eda64f92-a1f5-4742-8d4f-24806587c5ef\",\"type\":\"CategoricalTicker\"}},\"id\":\"818f9ee4-1864-49b5-9004-7bd7548f97b4\",\"type\":\"CategoricalAxis\"},{\"attributes\":{\"data_source\":{\"id\":\"29557c00-6749-42f5-8307-84e3933f30b2\",\"type\":\"ColumnDataSource\"},\"glyph\":{\"id\":\"bae916e6-d24a-49d1-bf5d-113fc2119acf\",\"type\":\"Rect\"},\"hover_glyph\":null,\"nonselection_glyph\":null,\"selection_glyph\":null},\"id\":\"4bde7ef1-d6c2-47a1-af54-b612c0e58b63\",\"type\":\"GlyphRenderer\"},{\"attributes\":{\"callback\":null,\"column_names\":[\"color\",\"line_color\",\"fill_alpha\",\"line_alpha\",\"width\",\"y\",\"height\",\"x\",\"label\"],\"data\":{\"chart_index\":[{\"\\u5165\\u5b66\\u5e74\\u4efd\":2012,\"\\u6027\\u522b\":\"\\u7537\"}],\"color\":[\"#5ab738\"],\"fill_alpha\":[0.8],\"height\":[2037.0],\"label\":[{\"\\u5165\\u5b66\\u5e74\\u4efd\":2012,\"\\u6027\\u522b\":\"\\u7537\"}],\"line_alpha\":[1.0],\"line_color\":[\"white\"],\"width\":[0.8],\"x\":[\"2012\"],\"y\":[1018.5],\"\\u5165\\u5b66\\u5e74\\u4efd\":[2012],\"\\u6027\\u522b\":[\"\\u7537\"]}},\"id\":\"29557c00-6749-42f5-8307-84e3933f30b2\",\"type\":\"ColumnDataSource\"},{\"attributes\":{},\"id\":\"24c1c0f9-8183-4614-88a3-5a952b14d1a9\",\"type\":\"ToolEvents\"},{\"attributes\":{},\"id\":\"30d6e6db-5646-4418-a300-809d343d5661\",\"type\":\"BasicTicker\"},{\"attributes\":{},\"id\":\"303ddbf3-73f5-4670-ac74-a161624ec9bf\",\"type\":\"BasicTickFormatter\"},{\"attributes\":{\"callback\":null,\"column_names\":[\"color\",\"line_color\",\"fill_alpha\",\"line_alpha\",\"width\",\"y\",\"height\",\"x\",\"label\"],\"data\":{\"chart_index\":[{\"\\u5165\\u5b66\\u5e74\\u4efd\":2016,\"\\u6027\\u522b\":\"\\u7537\"}],\"color\":[\"#5ab738\"],\"fill_alpha\":[0.8],\"height\":[1551.0],\"label\":[{\"\\u5165\\u5b66\\u5e74\\u4efd\":2016,\"\\u6027\\u522b\":\"\\u7537\"}],\"line_alpha\":[1.0],\"line_color\":[\"white\"],\"width\":[0.8],\"x\":[\"2016\"],\"y\":[775.5],\"\\u5165\\u5b66\\u5e74\\u4efd\":[2016],\"\\u6027\\u522b\":[\"\\u7537\"]}},\"id\":\"94194ca3-a0ae-437e-b32a-d3af7d8edd5e\",\"type\":\"ColumnDataSource\"},{\"attributes\":{\"dimension\":1,\"plot\":{\"id\":\"8e8b13d8-443f-4fa5-bc35-09790a4479bf\",\"subtype\":\"Chart\",\"type\":\"Plot\"},\"ticker\":{\"id\":\"30d6e6db-5646-4418-a300-809d343d5661\",\"type\":\"BasicTicker\"}},\"id\":\"00b3f6b2-1935-421e-a731-4c491982fb52\",\"type\":\"Grid\"},{\"attributes\":{\"data_source\":{\"id\":\"b67fc782-1810-4c44-84f6-b66061d3a8bd\",\"type\":\"ColumnDataSource\"},\"glyph\":{\"id\":\"cdbdd222-be1f-4abd-88e0-4e8457c0daa2\",\"type\":\"Rect\"},\"hover_glyph\":null,\"nonselection_glyph\":null,\"selection_glyph\":null},\"id\":\"fe9e8eda-4e17-4114-bf71-c9d988be73df\",\"type\":\"GlyphRenderer\"},{\"attributes\":{\"fill_alpha\":{\"field\":\"fill_alpha\"},\"fill_color\":{\"field\":\"color\"},\"height\":{\"field\":\"height\",\"units\":\"data\"},\"line_color\":{\"field\":\"line_color\"},\"width\":{\"field\":\"width\",\"units\":\"data\"},\"x\":{\"field\":\"x\"},\"y\":{\"field\":\"y\"}},\"id\":\"6708e9df-3d4b-4c26-b9da-bf3cecb72931\",\"type\":\"Rect\"},{\"attributes\":{\"callback\":null,\"factors\":[\"2012\",\"2013\",\"2014\",\"2015\",\"2016\"]},\"id\":\"d3086368-7e74-477a-a4ea-39b02b73edc1\",\"type\":\"FactorRange\"},{\"attributes\":{\"fill_alpha\":{\"field\":\"fill_alpha\"},\"fill_color\":{\"field\":\"color\"},\"height\":{\"field\":\"height\",\"units\":\"data\"},\"line_color\":{\"field\":\"line_color\"},\"width\":{\"field\":\"width\",\"units\":\"data\"},\"x\":{\"field\":\"x\"},\"y\":{\"field\":\"y\"}},\"id\":\"cdbdd222-be1f-4abd-88e0-4e8457c0daa2\",\"type\":\"Rect\"},{\"attributes\":{\"fill_alpha\":{\"field\":\"fill_alpha\"},\"fill_color\":{\"field\":\"color\"},\"height\":{\"field\":\"height\",\"units\":\"data\"},\"line_color\":{\"field\":\"line_color\"},\"width\":{\"field\":\"width\",\"units\":\"data\"},\"x\":{\"field\":\"x\"},\"y\":{\"field\":\"y\"}},\"id\":\"1c047695-af1d-4da2-9e00-3f5ab4d04717\",\"type\":\"Rect\"},{\"attributes\":{\"fill_alpha\":{\"field\":\"fill_alpha\"},\"fill_color\":{\"field\":\"color\"},\"height\":{\"field\":\"height\",\"units\":\"data\"},\"line_color\":{\"field\":\"line_color\"},\"width\":{\"field\":\"width\",\"units\":\"data\"},\"x\":{\"field\":\"x\"},\"y\":{\"field\":\"y\"}},\"id\":\"06d6a921-116b-4065-aee7-4f78cc779d7d\",\"type\":\"Rect\"}],\"root_ids\":[\"8e8b13d8-443f-4fa5-bc35-09790a4479bf\"]},\"title\":\"Bokeh Application\",\"version\":\"0.12.2\"}};\n",
       "            var render_items = [{\"docid\":\"f44cd0cf-1453-4e87-aa15-fad01cfa4b9e\",\"elementid\":\"a0bf03b2-e939-4663-bb5c-2abc07a6997e\",\"modelid\":\"8e8b13d8-443f-4fa5-bc35-09790a4479bf\"}];\n",
       "            \n",
       "            Bokeh.embed.embed_items(docs_json, render_items);\n",
       "        });\n",
       "      },\n",
       "      function(Bokeh) {\n",
       "      }\n",
       "    ];\n",
       "  \n",
       "    function run_inline_js() {\n",
       "      \n",
       "      if ((window.Bokeh !== undefined) || (force === \"1\")) {\n",
       "        for (var i = 0; i < inline_js.length; i++) {\n",
       "          inline_js[i](window.Bokeh);\n",
       "        }if (force === \"1\") {\n",
       "          display_loaded();\n",
       "        }} else if (Date.now() < window._bokeh_timeout) {\n",
       "        setTimeout(run_inline_js, 100);\n",
       "      } else if (!window._bokeh_failed_load) {\n",
       "        console.log(\"Bokeh: BokehJS failed to load within specified timeout.\");\n",
       "        window._bokeh_failed_load = true;\n",
       "      } else if (!force) {\n",
       "        var cell = $(\"#a0bf03b2-e939-4663-bb5c-2abc07a6997e\").parents('.cell').data().cell;\n",
       "        cell.output_area.append_execute_result(NB_LOAD_WARNING)\n",
       "      }\n",
       "  \n",
       "    }\n",
       "  \n",
       "    if (window._bokeh_is_loading === 0) {\n",
       "      console.log(\"Bokeh: BokehJS loaded, going straight to plotting\");\n",
       "      run_inline_js();\n",
       "    } else {\n",
       "      load_libs(js_urls, function() {\n",
       "        console.log(\"Bokeh: BokehJS plotting callback run at\", now());\n",
       "        run_inline_js();\n",
       "      });\n",
       "    }\n",
       "  }(this));\n",
       "</script>"
      ]
     },
     "metadata": {},
     "output_type": "display_data"
    }
   ],
   "source": [
    "# http://bokeh.pydata.org/en/latest/docs/reference/charts.html#bar\n",
    "p = charts.Bar(student_df,label='入学年份', values='性别', agg='count', stack='性别')\n",
    "show(p)"
   ]
  },
  {
   "cell_type": "markdown",
   "metadata": {},
   "source": [
    "## 学生数量及人数分布"
   ]
  },
  {
   "cell_type": "code",
   "execution_count": 5,
   "metadata": {
    "ExecuteTime": {
     "end_time": "2016-12-06T14:45:44.284143",
     "start_time": "2016-12-06T14:45:44.204292"
    },
    "collapsed": false
   },
   "outputs": [],
   "source": [
    "class StudentQueryPanel:\n",
    "    def __init__(self):\n",
    "        self.code_text = ipywidgets.Text(description='学号:')\n",
    "        self.code_text.on_submit(self.handle_text_submit)\n",
    "        self.name_text = ipywidgets.Text(\n",
    "            disabled=True, value='无', description='姓名:')\n",
    "        self.image = ipywidgets.Image(format='jpg', width=260)\n",
    "        self.html = ipywidgets.HTML(description='已选课程班级')\n",
    "        self.panel = ipywidgets.VBox(\n",
    "            [self.image, self.name_text, self.code_text, self.html])\n",
    "        display.display(self.panel)\n",
    "\n",
    "    def handle_text_submit(self, t):\n",
    "        # 先重置\n",
    "        self.image.value = b''\n",
    "        self.name_text.value = '无'\n",
    "        self.html.value = '<b>没有查询到信息</b>'\n",
    "        \n",
    "        student_code = t.value\n",
    "        student = None\n",
    "        if re.match(r'201[2-6]21\\d{4}', student_code):\n",
    "            student_code = int(student_code)\n",
    "            student = db['student'].find_one(filter={'学号': student_code})\n",
    "        if student:\n",
    "            self.image.value = requests.get(\n",
    "                'http://222.195.8.201/student/photo/{:d}/{:d}.JPG'.format(\n",
    "                    student_code // 1000000, student_code)).content\n",
    "            name = student['姓名']\n",
    "            if student['性别'] == '女':\n",
    "                name += '*'\n",
    "            self.name_text.value = name\n",
    "            classes = db['class_student'].find(filter={'学号': student_code})\n",
    "            query = list(map(lambda v: { k: v[k] for k in ('学期代码', '课程代码', '教学班号')}, classes))\n",
    "            classes = list(db['class'].find({\n",
    "                '$or': query\n",
    "            }).sort([('学期代码', pymongo.DESCENDING), ('课程代码', pymongo.DESCENDING)]))\n",
    "            \n",
    "            classes_df = pd.DataFrame(\n",
    "                classes,\n",
    "                columns=[\n",
    "                    '学期代码', '课程代码', '课程名称', '教学班号', '校区', '时间地点', '起止周',\n",
    "                    '开课单位', '任课老师', '优选范围', '性别限制', '禁选范围', '课程类型', '考核类型',\n",
    "                    '学分', '班级容量', '选中人数', '备注'\n",
    "                ])\n",
    "            self.html.value = classes_df._repr_html_()\n",
    "\n",
    "\n",
    "panel = StudentQueryPanel()"
   ]
  },
  {
   "cell_type": "code",
   "execution_count": 6,
   "metadata": {
    "ExecuteTime": {
     "end_time": "2016-12-06T14:45:44.348976",
     "start_time": "2016-12-06T14:45:44.287180"
    },
    "collapsed": false
   },
   "outputs": [
    {
     "data": {
      "text/plain": [
       "<bound method Cursor.sort of <pymongo.cursor.Cursor object at 0x7f6523f0dc50>>"
      ]
     },
     "execution_count": 6,
     "metadata": {},
     "output_type": "execute_result"
    }
   ],
   "source": [
    "db['class'].find().sort"
   ]
  },
  {
   "cell_type": "code",
   "execution_count": null,
   "metadata": {
    "collapsed": true
   },
   "outputs": [],
   "source": []
  }
 ],
 "metadata": {
  "anaconda-cloud": {},
  "kernelspec": {
   "display_name": "Python [conda root]",
   "language": "python",
   "name": "conda-root-py"
  },
  "language_info": {
   "codemirror_mode": {
    "name": "ipython",
    "version": 3
   },
   "file_extension": ".py",
   "mimetype": "text/x-python",
   "name": "python",
   "nbconvert_exporter": "python",
   "pygments_lexer": "ipython3",
   "version": "3.5.2"
  },
  "toc": {
   "nav_menu": {
    "height": "84px",
    "width": "252px"
   },
   "navigate_menu": true,
   "number_sections": true,
   "sideBar": true,
   "threshold": 4,
   "toc_cell": false,
   "toc_section_display": "block",
   "toc_window_display": false
  },
  "widgets": {
   "state": {
    "b3c015dc161040eba00dee8c7a998caa": {
     "views": [
      {
       "cell_index": 8
      }
     ]
    }
   },
   "version": "1.2.0"
  }
 },
 "nbformat": 4,
 "nbformat_minor": 0
}
